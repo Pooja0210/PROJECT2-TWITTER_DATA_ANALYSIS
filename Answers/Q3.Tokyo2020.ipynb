{
 "cells": [
  {
   "cell_type": "code",
   "execution_count": 10,
   "metadata": {},
   "outputs": [
    {
     "data": {
      "text/html": [
       "\n",
       "            <div>\n",
       "                <p><b>SparkSession - hive</b></p>\n",
       "                \n",
       "        <div>\n",
       "            <p><b>SparkContext</b></p>\n",
       "\n",
       "            <p><a href=\"http://POOJA:4040\">Spark UI</a></p>\n",
       "\n",
       "            <dl>\n",
       "              <dt>Version</dt>\n",
       "                <dd><code>v3.1.2</code></dd>\n",
       "              <dt>Master</dt>\n",
       "                <dd><code>local[2]</code></dd>\n",
       "              <dt>AppName</dt>\n",
       "                <dd><code>PySparkShell</code></dd>\n",
       "            </dl>\n",
       "        </div>\n",
       "        \n",
       "            </div>\n",
       "        "
      ],
      "text/plain": [
       "<pyspark.sql.session.SparkSession at 0x29889029ac8>"
      ]
     },
     "execution_count": 10,
     "metadata": {},
     "output_type": "execute_result"
    }
   ],
   "source": [
    "import pyspark\n",
    "from pyspark import SparkContext\n",
    "sc = SparkContext.getOrCreate();\n",
    "import findspark\n",
    "findspark.init()\n",
    "from pyspark.sql import SparkSession\n",
    "spark = SparkSession.builder.master(\"local[*]\").getOrCreate()\n",
    "spark.conf.set(\"spark.sql.repl.eagerEval.enabled\", True) # Property used to format output tables better\n",
    "spark\n"
   ]
  },
  {
   "cell_type": "code",
   "execution_count": 11,
   "metadata": {},
   "outputs": [],
   "source": [
    "import os\n",
    "import tweepy as tw"
   ]
  },
  {
   "cell_type": "code",
   "execution_count": 12,
   "metadata": {},
   "outputs": [],
   "source": [
    "access_token = '1423506172003291139-yQlvw5xX24vOmHSLCj1uKrYDuhQTKD'\n",
    "access_token_secret = 'X2aRu8OMzNROksy4uIqLDf5hoMvXuR4xaEkYRYlyOxbdQ'\n",
    "consumer_key = 'fRpq6Rk6LeDjJcq77AzR9vpFt'\n",
    "consumer_secret = 'GeTDjPUQytrlKBx07KDqAKLTyRa7dfwP5JRqqKphmFujgx9Zx3'"
   ]
  },
  {
   "cell_type": "code",
   "execution_count": 13,
   "metadata": {},
   "outputs": [],
   "source": [
    "auth = tw.OAuthHandler(consumer_key,consumer_secret)\n",
    "auth.set_access_token(access_token,access_token_secret)\n",
    "api= tw.API(auth,wait_on_rate_limit =True)"
   ]
  },
  {
   "cell_type": "code",
   "execution_count": 14,
   "metadata": {},
   "outputs": [],
   "source": [
    "tweets = tw.Cursor(api.search, q=\"#Tokyo2020\", since = \"2021-07-05\", until = \"2021-08-12\",lang=\"en\").items(50)\n",
    "#[tweet.text for tweet in tweets]"
   ]
  },
  {
   "cell_type": "code",
   "execution_count": 15,
   "metadata": {},
   "outputs": [
    {
     "data": {
      "text/plain": [
       "'#Tokyo2020 -filter:retweets'"
      ]
     },
     "execution_count": 15,
     "metadata": {},
     "output_type": "execute_result"
    }
   ],
   "source": [
    "new_search= \"#Tokyo2020\" +\" -filter:retweets\"\n",
    "new_search"
   ]
  },
  {
   "cell_type": "code",
   "execution_count": 16,
   "metadata": {},
   "outputs": [],
   "source": [
    "tweets = tw.Cursor(api.search, q=\"#Tokyo2020\", since = \"2021-07-05\", until = \"2021-08-12\",lang=\"en\").items(50)\n",
    "users_details = [(tweet.user.screen_name,tweet.user.name)for tweet in tweets]\n",
    "#users_details.count()"
   ]
  },
  {
   "cell_type": "code",
   "execution_count": 17,
   "metadata": {},
   "outputs": [
    {
     "name": "stdout",
     "output_type": "stream",
     "text": [
      "root\n",
      " |-- screen_name: string (nullable = true)\n",
      " |-- name: string (nullable = true)\n",
      "\n",
      "+---------------+-----------------------------------------+\n",
      "|screen_name    |name                                     |\n",
      "+---------------+-----------------------------------------+\n",
      "|blackyouth2    |Barbara                                  |\n",
      "|bindiya_reddy  |SSR opened our eyes                      |\n",
      "|naaaaaonet     |なおた                                   |\n",
      "|DemocracyNature|NG                                       |\n",
      "|ccambises      |Christopher Cambises                     |\n",
      "|z0uCcB998Fdc8OX|はいほー！                               |\n",
      "|Satyana69318686|सत्यानन्द पाण्डेय                        |\n",
      "|Shashan20797894|शशांक गुप्ता🇮🇳Shashank Gupta           |\n",
      "|NankoAi        |nanko_ai                                 |\n",
      "|punitha80986562|கவிஞர். கிரு. சுந்தரேசன்                 |\n",
      "|Satyana69318686|सत्यानन्द पाण्डेय                        |\n",
      "|usagi_melou    |マイ甘風                                 |\n",
      "|nartamil       |NarTamil mani                            |\n",
      "|PIBKohima      |PIB in Nagaland                          |\n",
      "|SherBah46958042|Sher Bahadur                             |\n",
      "|_Sammieyy_     |•あら　あら•                             |\n",
      "|PBNS_India     |Prasar Bharati News Services पी.बी.एन.एस.|\n",
      "|graciesopopular|Gracie✨                                  |\n",
      "|K_taro3306     |かみ                                     |\n",
      "|Estrell84378344|Estrella                                 |\n",
      "+---------------+-----------------------------------------+\n",
      "only showing top 20 rows\n",
      "\n"
     ]
    }
   ],
   "source": [
    "from pyspark.sql.types import StructType,StructField, StringType, IntegerType\n",
    "schema = StructType([ \\\n",
    "    StructField(\"screen_name\",StringType(),True), \\\n",
    "    StructField(\"name\", StringType(), True), \\\n",
    "  ])\n",
    " \n",
    "df = spark.createDataFrame(data=users_details,schema=schema)\n",
    "df.printSchema()\n",
    "df.show(truncate=False)"
   ]
  },
  {
   "cell_type": "code",
   "execution_count": null,
   "metadata": {},
   "outputs": [],
   "source": []
  }
 ],
 "metadata": {
  "kernelspec": {
   "display_name": "Python 3",
   "language": "python",
   "name": "python3"
  },
  "language_info": {
   "codemirror_mode": {
    "name": "ipython",
    "version": 3
   },
   "file_extension": ".py",
   "mimetype": "text/x-python",
   "name": "python",
   "nbconvert_exporter": "python",
   "pygments_lexer": "ipython3",
   "version": "3.7.1"
  }
 },
 "nbformat": 4,
 "nbformat_minor": 5
}
