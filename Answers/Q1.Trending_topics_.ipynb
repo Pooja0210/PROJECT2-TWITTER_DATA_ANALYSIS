{
 "cells": [
  {
   "cell_type": "code",
   "execution_count": 23,
   "metadata": {},
   "outputs": [
    {
     "data": {
      "text/html": [
       "\n",
       "            <div>\n",
       "                <p><b>SparkSession - hive</b></p>\n",
       "                \n",
       "        <div>\n",
       "            <p><b>SparkContext</b></p>\n",
       "\n",
       "            <p><a href=\"http://POOJA:4040\">Spark UI</a></p>\n",
       "\n",
       "            <dl>\n",
       "              <dt>Version</dt>\n",
       "                <dd><code>v3.1.2</code></dd>\n",
       "              <dt>Master</dt>\n",
       "                <dd><code>local[2]</code></dd>\n",
       "              <dt>AppName</dt>\n",
       "                <dd><code>PySparkShell</code></dd>\n",
       "            </dl>\n",
       "        </div>\n",
       "        \n",
       "            </div>\n",
       "        "
      ],
      "text/plain": [
       "<pyspark.sql.session.SparkSession at 0x2284620e860>"
      ]
     },
     "execution_count": 23,
     "metadata": {},
     "output_type": "execute_result"
    }
   ],
   "source": [
    "import pyspark\n",
    "from pyspark import SparkContext\n",
    "sc = SparkContext.getOrCreate();\n",
    "import findspark\n",
    "findspark.init()\n",
    "from pyspark.sql import SparkSession\n",
    "spark = SparkSession.builder.master(\"local[*]\").getOrCreate()\n",
    "spark.conf.set(\"spark.sql.repl.eagerEval.enabled\", True) # Property used to format output tables better\n",
    "spark"
   ]
  },
  {
   "cell_type": "code",
   "execution_count": 24,
   "metadata": {},
   "outputs": [],
   "source": [
    "import tweepy as tw\n",
    "import os\n",
    "import json\n",
    "import sys\n",
    "import geocoder"
   ]
  },
  {
   "cell_type": "code",
   "execution_count": 13,
   "metadata": {},
   "outputs": [],
   "source": [
    "# API Keys and Tokens\n",
    "consumer_key = 'fRpq6Rk6LeDjJcq77AzR9vpFt'\n",
    "consumer_secret = 'GeTDjPUQytrlKBx07KDqAKLTyRa7dfwP5JRqqKphmFujgx9Zx3'\n",
    "access_token = '1423506172003291139-yQlvw5xX24vOmHSLCj1uKrYDuhQTKD'\n",
    "access_secret = 'X2aRu8OMzNROksy4uIqLDf5hoMvXuR4xaEkYRYlyOxbdQ'\n"
   ]
  },
  {
   "cell_type": "code",
   "execution_count": 14,
   "metadata": {},
   "outputs": [],
   "source": [
    "# Authorization and Authentication\n",
    "auth = tw.OAuthHandler(consumer_key, consumer_secret)\n",
    "auth.set_access_token(access_token, access_secret)\n",
    "api = tw.API(auth)"
   ]
  },
  {
   "cell_type": "code",
   "execution_count": 15,
   "metadata": {},
   "outputs": [],
   "source": [
    "# WOEID of delhi, india\n",
    "woeid = 20070458"
   ]
  },
  {
   "cell_type": "code",
   "execution_count": 16,
   "metadata": {},
   "outputs": [],
   "source": [
    "# fetching the trends\n",
    "Trends = api.trends_place(id = woeid)"
   ]
  },
  {
   "cell_type": "code",
   "execution_count": 17,
   "metadata": {},
   "outputs": [
    {
     "name": "stdout",
     "output_type": "stream",
     "text": [
      "{'trends': [{'name': '#DominosPizza', 'url': 'http://twitter.com/search?q=%23DominosPizza', 'promoted_content': None, 'query': '%23DominosPizza', 'tweet_volume': None}, {'name': 'Rohit', 'url': 'http://twitter.com/search?q=Rohit', 'promoted_content': None, 'query': 'Rohit', 'tweet_volume': 22205}, {'name': '#FreedomFromDrugs', 'url': 'http://twitter.com/search?q=%23FreedomFromDrugs', 'promoted_content': None, 'query': '%23FreedomFromDrugs', 'tweet_volume': 342637}, {'name': '#5YearsWithAGUSTD', 'url': 'http://twitter.com/search?q=%235YearsWithAGUSTD', 'promoted_content': None, 'query': '%235YearsWithAGUSTD', 'tweet_volume': 147339}, {'name': 'Sant Rampal Ji Maharaj', 'url': 'http://twitter.com/search?q=%22Sant+Rampal+Ji+Maharaj%22', 'promoted_content': None, 'query': '%22Sant+Rampal+Ji+Maharaj%22', 'tweet_volume': 323523}, {'name': 'Afghanistan', 'url': 'http://twitter.com/search?q=Afghanistan', 'promoted_content': None, 'query': 'Afghanistan', 'tweet_volume': 1550353}, {'name': 'Pujara', 'url': 'http://twitter.com/search?q=Pujara', 'promoted_content': None, 'query': 'Pujara', 'tweet_volume': 14543}, {'name': '#IndianIdolGreatestFinaleEver', 'url': 'http://twitter.com/search?q=%23IndianIdolGreatestFinaleEver', 'promoted_content': None, 'query': '%23IndianIdolGreatestFinaleEver', 'tweet_volume': None}, {'name': '#விஜய்_ಮಾಸ್ಟರ್_TRPRaid', 'url': 'http://twitter.com/search?q=%23%E0%AE%B5%E0%AE%BF%E0%AE%9C%E0%AE%AF%E0%AF%8D_%E0%B2%AE%E0%B2%BE%E0%B2%B8%E0%B3%8D%E0%B2%9F%E0%B2%B0%E0%B3%8D_TRPRaid', 'promoted_content': None, 'query': '%23%E0%AE%B5%E0%AE%BF%E0%AE%9C%E0%AE%AF%E0%AF%8D_%E0%B2%AE%E0%B2%BE%E0%B2%B8%E0%B3%8D%E0%B2%9F%E0%B2%B0%E0%B3%8D_TRPRaid', 'tweet_volume': 172381}, {'name': '9YEARS OF ETT HYSTERIA', 'url': 'http://twitter.com/search?q=%229YEARS+OF+ETT+HYSTERIA%22', 'promoted_content': None, 'query': '%229YEARS+OF+ETT+HYSTERIA%22', 'tweet_volume': 14767}, {'name': 'D-1 TO FIGHTorESCAPE', 'url': 'http://twitter.com/search?q=%22D-1+TO+FIGHTorESCAPE%22', 'promoted_content': None, 'query': '%22D-1+TO+FIGHTorESCAPE%22', 'tweet_volume': 129790}, {'name': 'शहनाज़ गिल', 'url': 'http://twitter.com/search?q=%22%E0%A4%B6%E0%A4%B9%E0%A4%A8%E0%A4%BE%E0%A4%9C%E0%A4%BC+%E0%A4%97%E0%A4%BF%E0%A4%B2%22', 'promoted_content': None, 'query': '%22%E0%A4%B6%E0%A4%B9%E0%A4%A8%E0%A4%BE%E0%A4%9C%E0%A4%BC+%E0%A4%97%E0%A4%BF%E0%A4%B2%22', 'tweet_volume': 39833}, {'name': 'Tajikistan', 'url': 'http://twitter.com/search?q=Tajikistan', 'promoted_content': None, 'query': 'Tajikistan', 'tweet_volume': 15416}, {'name': 'Kohli', 'url': 'http://twitter.com/search?q=Kohli', 'promoted_content': None, 'query': 'Kohli', 'tweet_volume': 35476}, {'name': 'America', 'url': 'http://twitter.com/search?q=America', 'promoted_content': None, 'query': 'America', 'tweet_volume': 420967}, {'name': 'Biden', 'url': 'http://twitter.com/search?q=Biden', 'promoted_content': None, 'query': 'Biden', 'tweet_volume': 872031}, {'name': 'BIRDIES LOVE YOU SHAHEER', 'url': 'http://twitter.com/search?q=%22BIRDIES+LOVE+YOU+SHAHEER%22', 'promoted_content': None, 'query': '%22BIRDIES+LOVE+YOU+SHAHEER%22', 'tweet_volume': None}, {'name': 'Sharia', 'url': 'http://twitter.com/search?q=Sharia', 'promoted_content': None, 'query': 'Sharia', 'tweet_volume': 18091}, {'name': 'JEON JUNGKOOK', 'url': 'http://twitter.com/search?q=%22JEON+JUNGKOOK%22', 'promoted_content': None, 'query': '%22JEON+JUNGKOOK%22', 'tweet_volume': 33336}, {'name': 'राष्ट्रपति अशरफ', 'url': 'http://twitter.com/search?q=%22%E0%A4%B0%E0%A4%BE%E0%A4%B7%E0%A5%8D%E0%A4%9F%E0%A5%8D%E0%A4%B0%E0%A4%AA%E0%A4%A4%E0%A4%BF+%E0%A4%85%E0%A4%B6%E0%A4%B0%E0%A4%AB%22', 'promoted_content': None, 'query': '%22%E0%A4%B0%E0%A4%BE%E0%A4%B7%E0%A5%8D%E0%A4%9F%E0%A5%8D%E0%A4%B0%E0%A4%AA%E0%A4%A4%E0%A4%BF+%E0%A4%85%E0%A4%B6%E0%A4%B0%E0%A4%AB%22', 'tweet_volume': None}, {'name': 'Drug Free India', 'url': 'http://twitter.com/search?q=%22Drug+Free+India%22', 'promoted_content': None, 'query': '%22Drug+Free+India%22', 'tweet_volume': None}, {'name': 'Islamic', 'url': 'http://twitter.com/search?q=Islamic', 'promoted_content': None, 'query': 'Islamic', 'tweet_volume': 60845}, {'name': 'Gerd Muller', 'url': 'http://twitter.com/search?q=%22Gerd+Muller%22', 'promoted_content': None, 'query': '%22Gerd+Muller%22', 'tweet_volume': 40695}, {'name': 'Sant Garibdas', 'url': 'http://twitter.com/search?q=%22Sant+Garibdas%22', 'promoted_content': None, 'query': '%22Sant+Garibdas%22', 'tweet_volume': None}, {'name': 'ARMY ALERT OnTFMA', 'url': 'http://twitter.com/search?q=%22ARMY+ALERT+OnTFMA%22', 'promoted_content': None, 'query': '%22ARMY+ALERT+OnTFMA%22', 'tweet_volume': 19446}, {'name': 'Air India', 'url': 'http://twitter.com/search?q=%22Air+India%22', 'promoted_content': None, 'query': '%22Air+India%22', 'tweet_volume': None}, {'name': 'OTT KI SHAAN ZEESHAN', 'url': 'http://twitter.com/search?q=%22OTT+KI+SHAAN+ZEESHAN%22', 'promoted_content': None, 'query': '%22OTT+KI+SHAAN+ZEESHAN%22', 'tweet_volume': 18575}, {'name': 'Russia', 'url': 'http://twitter.com/search?q=Russia', 'promoted_content': None, 'query': 'Russia', 'tweet_volume': 74250}, {'name': 'Newcastle', 'url': 'http://twitter.com/search?q=Newcastle', 'promoted_content': None, 'query': 'Newcastle', 'tweet_volume': 32098}, {'name': '1 BILLION STREAMS FOR JIMIN', 'url': 'http://twitter.com/search?q=%221+BILLION+STREAMS+FOR+JIMIN%22', 'promoted_content': None, 'query': '%221+BILLION+STREAMS+FOR+JIMIN%22', 'tweet_volume': 101004}, {'name': 'When Justice4SSR', 'url': 'http://twitter.com/search?q=%22When+Justice4SSR%22', 'promoted_content': None, 'query': '%22When+Justice4SSR%22', 'tweet_volume': 125212}, {'name': 'RIP Legend', 'url': 'http://twitter.com/search?q=%22RIP+Legend%22', 'promoted_content': None, 'query': '%22RIP+Legend%22', 'tweet_volume': None}, {'name': 'London', 'url': 'http://twitter.com/search?q=London', 'promoted_content': None, 'query': 'London', 'tweet_volume': 110342}, {'name': 'Randa', 'url': 'http://twitter.com/search?q=Randa', 'promoted_content': None, 'query': 'Randa', 'tweet_volume': None}, {'name': 'Vietnam', 'url': 'http://twitter.com/search?q=Vietnam', 'promoted_content': None, 'query': 'Vietnam', 'tweet_volume': 78193}, {'name': 'West Ham', 'url': 'http://twitter.com/search?q=%22West+Ham%22', 'promoted_content': None, 'query': '%22West+Ham%22', 'tweet_volume': 14427}, {'name': 'Congratulations Jimin', 'url': 'http://twitter.com/search?q=%22Congratulations+Jimin%22', 'promoted_content': None, 'query': '%22Congratulations+Jimin%22', 'tweet_volume': 106075}, {'name': 'sam curran', 'url': 'http://twitter.com/search?q=%22sam+curran%22', 'promoted_content': None, 'query': '%22sam+curran%22', 'tweet_volume': None}, {'name': '#Kabul', 'url': 'http://twitter.com/search?q=%23Kabul', 'promoted_content': None, 'query': '%23Kabul', 'tweet_volume': 216218}, {'name': '#AmanKaAashiyaanByPBS', 'url': 'http://twitter.com/search?q=%23AmanKaAashiyaanByPBS', 'promoted_content': None, 'query': '%23AmanKaAashiyaanByPBS', 'tweet_volume': None}, {'name': '#NaveenCares', 'url': 'http://twitter.com/search?q=%23NaveenCares', 'promoted_content': None, 'query': '%23NaveenCares', 'tweet_volume': None}, {'name': '#BossJodiSidNaaz', 'url': 'http://twitter.com/search?q=%23BossJodiSidNaaz', 'promoted_content': None, 'query': '%23BossJodiSidNaaz', 'tweet_volume': 565054}, {'name': '#ഓണത്തല്ല്', 'url': 'http://twitter.com/search?q=%23%E0%B4%93%E0%B4%A3%E0%B4%A4%E0%B5%8D%E0%B4%A4%E0%B4%B2%E0%B5%8D%E0%B4%B2%E0%B5%8D', 'promoted_content': None, 'query': '%23%E0%B4%93%E0%B4%A3%E0%B4%A4%E0%B5%8D%E0%B4%A4%E0%B4%B2%E0%B5%8D%E0%B4%B2%E0%B5%8D', 'tweet_volume': 13064}, {'name': '#LoserLover_Teaser2', 'url': 'http://twitter.com/search?q=%23LoserLover_Teaser2', 'promoted_content': None, 'query': '%23LoserLover_Teaser2', 'tweet_volume': 132625}, {'name': '#COCONAM21', 'url': 'http://twitter.com/search?q=%23COCONAM21', 'promoted_content': None, 'query': '%23COCONAM21', 'tweet_volume': 13519}, {'name': '#സ്നേഹംBTS', 'url': 'http://twitter.com/search?q=%23%E0%B4%B8%E0%B5%8D%E0%B4%A8%E0%B5%87%E0%B4%B9%E0%B4%82BTS', 'promoted_content': None, 'query': '%23%E0%B4%B8%E0%B5%8D%E0%B4%A8%E0%B5%87%E0%B4%B9%E0%B4%82BTS', 'tweet_volume': 13032}, {'name': '#देवबंद_में_तिरंगा', 'url': 'http://twitter.com/search?q=%23%E0%A4%A6%E0%A5%87%E0%A4%B5%E0%A4%AC%E0%A4%82%E0%A4%A6_%E0%A4%AE%E0%A5%87%E0%A4%82_%E0%A4%A4%E0%A4%BF%E0%A4%B0%E0%A4%82%E0%A4%97%E0%A4%BE', 'promoted_content': None, 'query': '%23%E0%A4%A6%E0%A5%87%E0%A4%B5%E0%A4%AC%E0%A4%82%E0%A4%A6_%E0%A4%AE%E0%A5%87%E0%A4%82_%E0%A4%A4%E0%A4%BF%E0%A4%B0%E0%A4%82%E0%A4%97%E0%A4%BE', 'tweet_volume': None}, {'name': '#CelebrationWithWelfare', 'url': 'http://twitter.com/search?q=%23CelebrationWithWelfare', 'promoted_content': None, 'query': '%23CelebrationWithWelfare', 'tweet_volume': None}, {'name': '#MegaTreePlantationDrive', 'url': 'http://twitter.com/search?q=%23MegaTreePlantationDrive', 'promoted_content': None, 'query': '%23MegaTreePlantationDrive', 'tweet_volume': None}, {'name': '#ENGvIND', 'url': 'http://twitter.com/search?q=%23ENGvIND', 'promoted_content': None, 'query': '%23ENGvIND', 'tweet_volume': 43070}], 'as_of': '2021-08-15T15:12:54Z', 'created_at': '2021-08-12T07:01:27Z', 'locations': [{'name': 'Delhi', 'woeid': 20070458}]}\n"
     ]
    }
   ],
   "source": [
    "for value in Trends:\n",
    "     print(value)\n",
    "        #for trend in value['trends']:\n",
    "      #  print(trend['name'], trend['tweet_volume'])"
   ]
  },
  {
   "cell_type": "code",
   "execution_count": 18,
   "metadata": {},
   "outputs": [],
   "source": [
    "for value in Trends:\n",
    "    rdd=spark.sparkContext.parallelize(value['trends'])\n",
    "Trend_with_hashtag=rdd.toDF(sampleRatio=0.01)"
   ]
  },
  {
   "cell_type": "code",
   "execution_count": 19,
   "metadata": {},
   "outputs": [
    {
     "name": "stdout",
     "output_type": "stream",
     "text": [
      "+--------------------+------------+\n",
      "|                name|tweet_volume|\n",
      "+--------------------+------------+\n",
      "|       #DominosPizza|        null|\n",
      "|               Rohit|       22205|\n",
      "|   #FreedomFromDrugs|      342637|\n",
      "|   #5YearsWithAGUSTD|      147339|\n",
      "|Sant Rampal Ji Ma...|      323523|\n",
      "|         Afghanistan|     1550353|\n",
      "|              Pujara|       14543|\n",
      "|#IndianIdolGreate...|        null|\n",
      "|#விஜய்_ಮಾಸ್ಟರ್_TR...|      172381|\n",
      "|9YEARS OF ETT HYS...|       14767|\n",
      "|D-1 TO FIGHTorESCAPE|      129790|\n",
      "|          शहनाज़ गिल|       39833|\n",
      "|          Tajikistan|       15416|\n",
      "|               Kohli|       35476|\n",
      "|             America|      420967|\n",
      "|               Biden|      872031|\n",
      "|BIRDIES LOVE YOU ...|        null|\n",
      "|              Sharia|       18091|\n",
      "|       JEON JUNGKOOK|       33336|\n",
      "|     राष्ट्रपति अशरफ|        null|\n",
      "+--------------------+------------+\n",
      "only showing top 20 rows\n",
      "\n"
     ]
    }
   ],
   "source": [
    "Trend_with_hashtag.createOrReplaceTempView(\"Trend\")\n",
    "TD=spark.sql(\"select name, tweet_volume from Trend\")\n",
    "TD.show()"
   ]
  },
  {
   "cell_type": "code",
   "execution_count": 20,
   "metadata": {},
   "outputs": [
    {
     "name": "stdout",
     "output_type": "stream",
     "text": [
      "{'trends': [{'name': 'Rohit', 'url': 'http://twitter.com/search?q=Rohit', 'promoted_content': None, 'query': 'Rohit', 'tweet_volume': 22205}, {'name': 'Sant Rampal Ji Maharaj', 'url': 'http://twitter.com/search?q=%22Sant+Rampal+Ji+Maharaj%22', 'promoted_content': None, 'query': '%22Sant+Rampal+Ji+Maharaj%22', 'tweet_volume': 324699}, {'name': 'Afghanistan', 'url': 'http://twitter.com/search?q=Afghanistan', 'promoted_content': None, 'query': 'Afghanistan', 'tweet_volume': 1550353}, {'name': 'Pujara', 'url': 'http://twitter.com/search?q=Pujara', 'promoted_content': None, 'query': 'Pujara', 'tweet_volume': 14596}, {'name': '9YEARS OF ETT HYSTERIA', 'url': 'http://twitter.com/search?q=%229YEARS+OF+ETT+HYSTERIA%22', 'promoted_content': None, 'query': '%229YEARS+OF+ETT+HYSTERIA%22', 'tweet_volume': 14767}, {'name': 'D-1 TO FIGHTorESCAPE', 'url': 'http://twitter.com/search?q=%22D-1+TO+FIGHTorESCAPE%22', 'promoted_content': None, 'query': '%22D-1+TO+FIGHTorESCAPE%22', 'tweet_volume': 129790}, {'name': 'शहनाज़ गिल', 'url': 'http://twitter.com/search?q=%22%E0%A4%B6%E0%A4%B9%E0%A4%A8%E0%A4%BE%E0%A4%9C%E0%A4%BC+%E0%A4%97%E0%A4%BF%E0%A4%B2%22', 'promoted_content': None, 'query': '%22%E0%A4%B6%E0%A4%B9%E0%A4%A8%E0%A4%BE%E0%A4%9C%E0%A4%BC+%E0%A4%97%E0%A4%BF%E0%A4%B2%22', 'tweet_volume': 39922}, {'name': 'Tajikistan', 'url': 'http://twitter.com/search?q=Tajikistan', 'promoted_content': None, 'query': 'Tajikistan', 'tweet_volume': 15565}, {'name': 'Kohli', 'url': 'http://twitter.com/search?q=Kohli', 'promoted_content': None, 'query': 'Kohli', 'tweet_volume': 35502}, {'name': 'America', 'url': 'http://twitter.com/search?q=America', 'promoted_content': None, 'query': 'America', 'tweet_volume': 420475}, {'name': 'Biden', 'url': 'http://twitter.com/search?q=Biden', 'promoted_content': None, 'query': 'Biden', 'tweet_volume': 872031}, {'name': 'BIRDIES LOVE YOU SHAHEER', 'url': 'http://twitter.com/search?q=%22BIRDIES+LOVE+YOU+SHAHEER%22', 'promoted_content': None, 'query': '%22BIRDIES+LOVE+YOU+SHAHEER%22', 'tweet_volume': None}, {'name': 'Sharia', 'url': 'http://twitter.com/search?q=Sharia', 'promoted_content': None, 'query': 'Sharia', 'tweet_volume': 18091}, {'name': 'JEON JUNGKOOK', 'url': 'http://twitter.com/search?q=%22JEON+JUNGKOOK%22', 'promoted_content': None, 'query': '%22JEON+JUNGKOOK%22', 'tweet_volume': 33336}, {'name': 'राष्ट्रपति अशरफ', 'url': 'http://twitter.com/search?q=%22%E0%A4%B0%E0%A4%BE%E0%A4%B7%E0%A5%8D%E0%A4%9F%E0%A5%8D%E0%A4%B0%E0%A4%AA%E0%A4%A4%E0%A4%BF+%E0%A4%85%E0%A4%B6%E0%A4%B0%E0%A4%AB%22', 'promoted_content': None, 'query': '%22%E0%A4%B0%E0%A4%BE%E0%A4%B7%E0%A5%8D%E0%A4%9F%E0%A5%8D%E0%A4%B0%E0%A4%AA%E0%A4%A4%E0%A4%BF+%E0%A4%85%E0%A4%B6%E0%A4%B0%E0%A4%AB%22', 'tweet_volume': None}, {'name': 'drug free india', 'url': 'http://twitter.com/search?q=%22drug+free+india%22', 'promoted_content': None, 'query': '%22drug+free+india%22', 'tweet_volume': None}, {'name': 'Islamic', 'url': 'http://twitter.com/search?q=Islamic', 'promoted_content': None, 'query': 'Islamic', 'tweet_volume': 60845}, {'name': 'Gerd Muller', 'url': 'http://twitter.com/search?q=%22Gerd+Muller%22', 'promoted_content': None, 'query': '%22Gerd+Muller%22', 'tweet_volume': 40834}, {'name': 'Sant Garibdas', 'url': 'http://twitter.com/search?q=%22Sant+Garibdas%22', 'promoted_content': None, 'query': '%22Sant+Garibdas%22', 'tweet_volume': None}, {'name': 'ARMY ALERT OnTFMA', 'url': 'http://twitter.com/search?q=%22ARMY+ALERT+OnTFMA%22', 'promoted_content': None, 'query': '%22ARMY+ALERT+OnTFMA%22', 'tweet_volume': 19491}, {'name': 'Air India', 'url': 'http://twitter.com/search?q=%22Air+India%22', 'promoted_content': None, 'query': '%22Air+India%22', 'tweet_volume': None}, {'name': 'OTT KI SHAAN ZEESHAN', 'url': 'http://twitter.com/search?q=%22OTT+KI+SHAAN+ZEESHAN%22', 'promoted_content': None, 'query': '%22OTT+KI+SHAAN+ZEESHAN%22', 'tweet_volume': 18622}, {'name': 'Newcastle', 'url': 'http://twitter.com/search?q=Newcastle', 'promoted_content': None, 'query': 'Newcastle', 'tweet_volume': 32150}, {'name': '1 BILLION STREAMS FOR JIMIN', 'url': 'http://twitter.com/search?q=%221+BILLION+STREAMS+FOR+JIMIN%22', 'promoted_content': None, 'query': '%221+BILLION+STREAMS+FOR+JIMIN%22', 'tweet_volume': 101067}, {'name': 'Russia', 'url': 'http://twitter.com/search?q=Russia', 'promoted_content': None, 'query': 'Russia', 'tweet_volume': 74250}, {'name': 'When Justice4SSR', 'url': 'http://twitter.com/search?q=%22When+Justice4SSR%22', 'promoted_content': None, 'query': '%22When+Justice4SSR%22', 'tweet_volume': 125212}, {'name': 'RIP Legend', 'url': 'http://twitter.com/search?q=%22RIP+Legend%22', 'promoted_content': None, 'query': '%22RIP+Legend%22', 'tweet_volume': None}, {'name': 'London', 'url': 'http://twitter.com/search?q=London', 'promoted_content': None, 'query': 'London', 'tweet_volume': 110443}, {'name': 'Randa', 'url': 'http://twitter.com/search?q=Randa', 'promoted_content': None, 'query': 'Randa', 'tweet_volume': None}, {'name': 'Vietnam', 'url': 'http://twitter.com/search?q=Vietnam', 'promoted_content': None, 'query': 'Vietnam', 'tweet_volume': 78193}, {'name': 'West Ham', 'url': 'http://twitter.com/search?q=%22West+Ham%22', 'promoted_content': None, 'query': '%22West+Ham%22', 'tweet_volume': 14427}, {'name': 'Congratulations Jimin', 'url': 'http://twitter.com/search?q=%22Congratulations+Jimin%22', 'promoted_content': None, 'query': '%22Congratulations+Jimin%22', 'tweet_volume': 106134}, {'name': 'Sam Curran', 'url': 'http://twitter.com/search?q=%22Sam+Curran%22', 'promoted_content': None, 'query': '%22Sam+Curran%22', 'tweet_volume': None}], 'as_of': '2021-08-15T15:13:21Z', 'created_at': '2021-08-12T07:01:27Z', 'locations': [{'name': 'Delhi', 'woeid': 20070458}]}\n"
     ]
    }
   ],
   "source": [
    "trends = api.trends_place(id = woeid,exclude = \"hashtags\")\n",
    "for value in trends:\n",
    "    print(value)"
   ]
  },
  {
   "cell_type": "code",
   "execution_count": 25,
   "metadata": {},
   "outputs": [],
   "source": [
    "for value in trends:\n",
    "    RDD = spark.sparkContext.parallelize(value['trends'])\n",
    "trend_without_hashtag=RDD.toDF(sampleRatio=0.01)"
   ]
  },
  {
   "cell_type": "code",
   "execution_count": 26,
   "metadata": {},
   "outputs": [
    {
     "name": "stdout",
     "output_type": "stream",
     "text": [
      "+--------------------+------------+\n",
      "|                name|tweet_volume|\n",
      "+--------------------+------------+\n",
      "|               Rohit|       22205|\n",
      "|Sant Rampal Ji Ma...|      324699|\n",
      "|         Afghanistan|     1550353|\n",
      "|              Pujara|       14596|\n",
      "|9YEARS OF ETT HYS...|       14767|\n",
      "|D-1 TO FIGHTorESCAPE|      129790|\n",
      "|          शहनाज़ गिल|       39922|\n",
      "|          Tajikistan|       15565|\n",
      "|               Kohli|       35502|\n",
      "|             America|      420475|\n",
      "|               Biden|      872031|\n",
      "|BIRDIES LOVE YOU ...|        null|\n",
      "|              Sharia|       18091|\n",
      "|       JEON JUNGKOOK|       33336|\n",
      "|     राष्ट्रपति अशरफ|        null|\n",
      "|     drug free india|        null|\n",
      "|             Islamic|       60845|\n",
      "|         Gerd Muller|       40834|\n",
      "|       Sant Garibdas|        null|\n",
      "|   ARMY ALERT OnTFMA|       19491|\n",
      "+--------------------+------------+\n",
      "only showing top 20 rows\n",
      "\n"
     ]
    }
   ],
   "source": [
    "trend_without_hashtag.createOrReplaceTempView(\"trend\")\n",
    "td=spark.sql(\"select name, tweet_volume from trend\")\n",
    "td.show()"
   ]
  },
  {
   "cell_type": "code",
   "execution_count": 10,
   "metadata": {},
   "outputs": [],
   "source": [
    "#sc.stop()"
   ]
  },
  {
   "cell_type": "code",
   "execution_count": null,
   "metadata": {},
   "outputs": [],
   "source": []
  },
  {
   "cell_type": "code",
   "execution_count": null,
   "metadata": {},
   "outputs": [],
   "source": []
  },
  {
   "cell_type": "code",
   "execution_count": null,
   "metadata": {},
   "outputs": [],
   "source": []
  }
 ],
 "metadata": {
  "kernelspec": {
   "display_name": "Python 3",
   "language": "python",
   "name": "python3"
  },
  "language_info": {
   "codemirror_mode": {
    "name": "ipython",
    "version": 3
   },
   "file_extension": ".py",
   "mimetype": "text/x-python",
   "name": "python",
   "nbconvert_exporter": "python",
   "pygments_lexer": "ipython3",
   "version": "3.7.1"
  }
 },
 "nbformat": 4,
 "nbformat_minor": 2
}
