{
 "cells": [
  {
   "cell_type": "code",
   "execution_count": 12,
   "metadata": {},
   "outputs": [
    {
     "data": {
      "text/html": [
       "\n",
       "            <div>\n",
       "                <p><b>SparkSession - hive</b></p>\n",
       "                \n",
       "        <div>\n",
       "            <p><b>SparkContext</b></p>\n",
       "\n",
       "            <p><a href=\"http://POOJA:4040\">Spark UI</a></p>\n",
       "\n",
       "            <dl>\n",
       "              <dt>Version</dt>\n",
       "                <dd><code>v3.1.2</code></dd>\n",
       "              <dt>Master</dt>\n",
       "                <dd><code>local[2]</code></dd>\n",
       "              <dt>AppName</dt>\n",
       "                <dd><code>PySparkShell</code></dd>\n",
       "            </dl>\n",
       "        </div>\n",
       "        \n",
       "            </div>\n",
       "        "
      ],
      "text/plain": [
       "<pyspark.sql.session.SparkSession at 0x29362d0ecf8>"
      ]
     },
     "execution_count": 12,
     "metadata": {},
     "output_type": "execute_result"
    }
   ],
   "source": [
    "import pyspark\n",
    "from pyspark import SparkContext\n",
    "sc = SparkContext.getOrCreate();\n",
    "import findspark\n",
    "findspark.init()\n",
    "from pyspark.sql import SparkSession\n",
    "spark = SparkSession.builder.master(\"local[*]\").getOrCreate()\n",
    "spark.conf.set(\"spark.sql.repl.eagerEval.enabled\", True) # Property used to format output tables better\n",
    "spark\n"
   ]
  },
  {
   "cell_type": "code",
   "execution_count": 4,
   "metadata": {},
   "outputs": [],
   "source": [
    "import os\n",
    "import tweepy as tw"
   ]
  },
  {
   "cell_type": "code",
   "execution_count": null,
   "metadata": {},
   "outputs": [],
   "source": []
  },
  {
   "cell_type": "code",
   "execution_count": 5,
   "metadata": {},
   "outputs": [],
   "source": [
    "access_token = '1423506172003291139-yQlvw5xX24vOmHSLCj1uKrYDuhQTKD'\n",
    "access_token_secret = 'X2aRu8OMzNROksy4uIqLDf5hoMvXuR4xaEkYRYlyOxbdQ'\n",
    "consumer_key = 'fRpq6Rk6LeDjJcq77AzR9vpFt'\n",
    "consumer_secret = 'GeTDjPUQytrlKBx07KDqAKLTyRa7dfwP5JRqqKphmFujgx9Zx3'"
   ]
  },
  {
   "cell_type": "code",
   "execution_count": 6,
   "metadata": {},
   "outputs": [],
   "source": [
    "auth = tw.OAuthHandler(consumer_key,consumer_secret)\n",
    "auth.set_access_token(access_token,access_token_secret)\n",
    "api= tw.API(auth,wait_on_rate_limit =True)"
   ]
  },
  {
   "cell_type": "code",
   "execution_count": 7,
   "metadata": {},
   "outputs": [],
   "source": [
    "search_words = \"#olympic\"\n",
    "date_since = \"2021-08-07\""
   ]
  },
  {
   "cell_type": "code",
   "execution_count": 8,
   "metadata": {
    "scrolled": true
   },
   "outputs": [
    {
     "data": {
      "text/plain": [
       "[\"RT @APPOLICE100: It's more than a medal, it is India's pride: Andhra Pradesh Police felicitate @Pvsindhu1 for bagging the Olympic #Bronze M…\",\n",
       " 'Neeraj Incredible Chopra 🔥\\nAn inspiration to stay desi...\\nAnd never forget you mother tongue... #desi #NeerajChopra… https://t.co/IkHrCyeXqJ',\n",
       " 'On the eve of #IndependenceDay President \\nKovind to host #Indian #Olympic contingent over ‘high tea’… https://t.co/AWmvnZFOgz',\n",
       " 'RT @16Sreejesh: The smile define everything 💪🙏\\n\\n@Neeraj_chopra1 \\n#history #gold #athletics #olympic #tokyo https://t.co/4rCZku4vny',\n",
       " 'RT @womensbadminton: 🏸🇮🇩🥇 Here’s my look at GreyAp’s amazing #Olympic campaign #badminton\\n\\nhttps://t.co/Vr7pqalq0c\\n📷Rachel Florencia @persi…',\n",
       " 'When nation was celebrating #Olympic medalists n ready for #AzadiKaAmritMahotsav #ParliamentInsulted shocked n pain… https://t.co/7CY5swwduK',\n",
       " \"The Queen has sent her 'warmest congratulations' to those who competed at the #Olympic Games in #Tokyo2020.\\n\\nShe pr… https://t.co/dZnEjEVSk9\",\n",
       " 'RT @16Sreejesh: The smile define everything 💪🙏\\n\\n@Neeraj_chopra1 \\n#history #gold #athletics #olympic #tokyo https://t.co/4rCZku4vny',\n",
       " \"RT @RFYouthSports: Our\\xa0#RFPhysios\\xa0are\\xa0all\\xa0suited up\\xa0to\\xa0attend\\xa0the\\xa0Union Government's\\xa0#IndependenceDay\\xa0felicitation\\xa0ceremony to honour\\xa0the I…\",\n",
       " 'RT @16Sreejesh: The smile define everything 💪🙏\\n\\n@Neeraj_chopra1 \\n#history #gold #athletics #olympic #tokyo https://t.co/4rCZku4vny',\n",
       " 'RT @indianposten: @IdrisAhmad_47 @MitraDebu1 @ParveenKader @mujwords @DebkanchanMit @Tamil1947 @RavinderKapur2 @ProfSK5 @Arajitpandey @RiaR…',\n",
       " 'RT @16Sreejesh: The smile define everything 💪🙏\\n\\n@Neeraj_chopra1 \\n#history #gold #athletics #olympic #tokyo https://t.co/4rCZku4vny',\n",
       " 'Shop with @chomsessentials\\n😊\\n\\nContact Us\\n📞 09070814307 or \\nWhatsapp : 08138807625 .\\n\\n#BBNaija #Olympic https://t.co/hCCkRbphwL',\n",
       " \"Our\\xa0#RFPhysios\\xa0are\\xa0all\\xa0suited up\\xa0to\\xa0attend\\xa0the\\xa0Union Government's\\xa0#IndependenceDay\\xa0felicitation\\xa0ceremony to honour\\xa0… https://t.co/04BLVpeQ42\",\n",
       " 'RT @16Sreejesh: The smile define everything 💪🙏\\n\\n@Neeraj_chopra1 \\n#history #gold #athletics #olympic #tokyo https://t.co/4rCZku4vny',\n",
       " \"RT @bwfmedia: What a year for #Olympic champions @GreysPolii and Apriyani Rahayu 🇮🇩\\n\\nLet's relive their triumph in Bangkok 🇹🇭 in January 🏆…\",\n",
       " 'RT @16Sreejesh: The smile define everything 💪🙏\\n\\n@Neeraj_chopra1 \\n#history #gold #athletics #olympic #tokyo https://t.co/4rCZku4vny',\n",
       " 'RT @16Sreejesh: The smile define everything 💪🙏\\n\\n@Neeraj_chopra1 \\n#history #gold #athletics #olympic #tokyo https://t.co/4rCZku4vny',\n",
       " 'RT @CNBCTV18News: Founder of @IIS_Vijayanagar &amp; @jswsports that support #BajrangPunia &amp; #NeerajChopra says #Tokyo2020 is an inflection poin…',\n",
       " 'RT @WomensRightsTW: “We’re so comfortable in our bodies,” she says. \\n“There’s so many of us in this thing. You’re not alone.”\\n\\n#Tokyo2020 m…',\n",
       " \"RT @bwfmedia: What a year for #Olympic champions @GreysPolii and Apriyani Rahayu 🇮🇩\\n\\nLet's relive their triumph in Bangkok 🇹🇭 in January 🏆…\",\n",
       " 'Really proud of all the Olympic game winners ❤👏✌, now the next step for you is to sign movie contract with really g… https://t.co/CqZB8y4OYd',\n",
       " 'RT @The_BMC: \"Separating athletic prowess from inaccurate understandings of biology is essential to ensure that all people can enjoy &amp; comp…',\n",
       " 'RT @indianposten: @IdrisAhmad_47 @MitraDebu1 @ParveenKader @mujwords @DebkanchanMit @Tamil1947 @RavinderKapur2 @ProfSK5 @Arajitpandey @RiaR…',\n",
       " '@IdrisAhmad_47 @MitraDebu1 @ParveenKader @mujwords @DebkanchanMit @Tamil1947 @RavinderKapur2 @ProfSK5 @Arajitpandey… https://t.co/491JgkS9k4',\n",
       " 'RT @ThePEpodcast_: Our chat with @TeamGB #Olympic Gold Medalists @galal_yafai is almost at 1,000 views. I wonder if we can get to the magic…',\n",
       " 'Our chat with @TeamGB #Olympic Gold Medalists @galal_yafai is almost at 1,000 views. I wonder if we can get to the… https://t.co/dgnOQzjuA6',\n",
       " 'RT @WomensRightsTW: What does short hair do with #feminist?\\n\\nSouth Korean gold medal-winning #archer, An San’s short haircut has attracted…',\n",
       " \"RT @bwfmedia: What a year for #Olympic champions @GreysPolii and Apriyani Rahayu 🇮🇩\\n\\nLet's relive their triumph in Bangkok 🇹🇭 in January 🏆…\",\n",
       " \"RT @bwfmedia: What a year for #Olympic champions @GreysPolii and Apriyani Rahayu 🇮🇩\\n\\nLet's relive their triumph in Bangkok 🇹🇭 in January 🏆…\",\n",
       " 'RT @16Sreejesh: The smile define everything 💪🙏\\n\\n@Neeraj_chopra1 \\n#history #gold #athletics #olympic #tokyo https://t.co/4rCZku4vny',\n",
       " 'RT @womensbadminton: 🏸🇮🇩🥇 Here’s my look at GreyAp’s amazing #Olympic campaign #badminton\\n\\nhttps://t.co/Vr7pqalq0c\\n📷Rachel Florencia @persi…',\n",
       " \"Olympic gold medalist Caeleb Dressel's dog shows off ridiculous speed in 25-meter swim - https://t.co/BDrTg8oStR..… https://t.co/nj49Ho90XD\",\n",
       " 'RT @16Sreejesh: The smile define everything 💪🙏\\n\\n@Neeraj_chopra1 \\n#history #gold #athletics #olympic #tokyo https://t.co/4rCZku4vny',\n",
       " 'RT @tesfaldetsport: #Eritrea has completed its #Olympic Tokyo competition. #Swimming, #cycling and #athletics, what an impressive participa…',\n",
       " 'RT @womensbadminton: 🏸🇮🇩🥇 Here’s my look at GreyAp’s amazing #Olympic campaign #badminton\\n\\nhttps://t.co/Vr7pqalq0c\\n📷Rachel Florencia @persi…',\n",
       " 'Olly  #Kookaburra - Sydney 2000 #Olympic Games - McDonalds - 10cm https://t.co/5w1GCq5MZp via @eBay https://t.co/CWToOWEMNq',\n",
       " 'Olly  #Kookaburra - Sydney 2000 #Olympic Games - McDonalds - 10cm https://t.co/5w1GCq5MZp via @eBay',\n",
       " 'RT @16Sreejesh: The smile define everything 💪🙏\\n\\n@Neeraj_chopra1 \\n#history #gold #athletics #olympic #tokyo https://t.co/4rCZku4vny',\n",
       " \"RT @bwfmedia: What a year for #Olympic champions @GreysPolii and Apriyani Rahayu 🇮🇩\\n\\nLet's relive their triumph in Bangkok 🇹🇭 in January 🏆…\",\n",
       " 'RT @CNBCTV18News: Founder of @IIS_Vijayanagar &amp; @jswsports that support #BajrangPunia &amp; #NeerajChopra says #Tokyo2020 is an inflection poin…',\n",
       " 'RT @AshwiniVaishnaw: Unprecedented #Gold for India!\\nCongratulations! #Olympic Champion Neeraj Chopra, the gleam of India’s first #gold at #…',\n",
       " 'RT @womensbadminton: 🏸🇮🇩🥇 Here’s my look at GreyAp’s amazing #Olympic campaign #badminton\\n\\nhttps://t.co/Vr7pqalq0c\\n📷Rachel Florencia @persi…',\n",
       " '@nilaydutta For a girl,who could never win a point nor return a punch and lost so poorly 0-5 in the semi-final to T… https://t.co/LpLceVJjtw',\n",
       " 'Founder of @IIS_Vijayanagar &amp; @jswsports that support #BajrangPunia &amp; #NeerajChopra says #Tokyo2020 is an inflectio… https://t.co/c4TEqVBekE',\n",
       " 'Gold medalist #CaelebDressel has trained his dog to race like an #Olympic swimmer\\n\\nhttps://t.co/lPQi7kn0na https://t.co/dfayP3R6IA',\n",
       " \"RT @bwfmedia: What a year for #Olympic champions @GreysPolii and Apriyani Rahayu 🇮🇩\\n\\nLet's relive their triumph in Bangkok 🇹🇭 in January 🏆…\",\n",
       " 'RT @WomensRightsTW: What does short hair do with #feminist?\\n\\nSouth Korean gold medal-winning #archer, An San’s short haircut has attracted…',\n",
       " 'RT @16Sreejesh: The smile define everything 💪🙏\\n\\n@Neeraj_chopra1 \\n#history #gold #athletics #olympic #tokyo https://t.co/4rCZku4vny',\n",
       " 'RT @womensbadminton: 🏸🇮🇩🥇 Here’s my look at GreyAp’s amazing #Olympic campaign #badminton\\n\\nhttps://t.co/Vr7pqalq0c\\n📷Rachel Florencia @persi…',\n",
       " 'RT @FincareBank: Congratulations Ravi Kumar Dahiya for winning a silver medal in #Tokyoolympics.\\n\\n#fincare #smallfinancebank\\n#wishmoregetmo…',\n",
       " 'RT @FincareBank: Congratulations to Neeraj Chopra for winning a Gold in #Tokyoolympics.\\n\\n#fincare #smallfinancebank\\n#wishmoregetmore #neera…',\n",
       " 'RT @16Sreejesh: The smile define everything 💪🙏\\n\\n@Neeraj_chopra1 \\n#history #gold #athletics #olympic #tokyo https://t.co/4rCZku4vny',\n",
       " 'RT @16Sreejesh: The smile define everything 💪🙏\\n\\n@Neeraj_chopra1 \\n#history #gold #athletics #olympic #tokyo https://t.co/4rCZku4vny',\n",
       " \"Well, well, well 😉 Stunning results from our data-driven Olympic medal table predictions \\n\\n@ArtifactSwiss's predict… https://t.co/mS9AEB9UY4\",\n",
       " 'RT @The_BMC: \"Separating athletic prowess from inaccurate understandings of biology is essential to ensure that all people can enjoy &amp; comp…',\n",
       " \"RT @bwfmedia: What a year for #Olympic champions @GreysPolii and Apriyani Rahayu 🇮🇩\\n\\nLet's relive their triumph in Bangkok 🇹🇭 in January 🏆…\",\n",
       " \"RT @bwfmedia: What a year for #Olympic champions @GreysPolii and Apriyani Rahayu 🇮🇩\\n\\nLet's relive their triumph in Bangkok 🇹🇭 in January 🏆…\",\n",
       " 'RT @16Sreejesh: The smile define everything 💪🙏\\n\\n@Neeraj_chopra1 \\n#history #gold #athletics #olympic #tokyo https://t.co/4rCZku4vny',\n",
       " 'RT @16Sreejesh: The smile define everything 💪🙏\\n\\n@Neeraj_chopra1 \\n#history #gold #athletics #olympic #tokyo https://t.co/4rCZku4vny',\n",
       " \"RT @bwfmedia: What a year for #Olympic champions @GreysPolii and Apriyani Rahayu 🇮🇩\\n\\nLet's relive their triumph in Bangkok 🇹🇭 in January 🏆…\",\n",
       " 'RT @16Sreejesh: The smile define everything 💪🙏\\n\\n@Neeraj_chopra1 \\n#history #gold #athletics #olympic #tokyo https://t.co/4rCZku4vny',\n",
       " 'RT @16Sreejesh: The smile define everything 💪🙏\\n\\n@Neeraj_chopra1 \\n#history #gold #athletics #olympic #tokyo https://t.co/4rCZku4vny',\n",
       " 'RT @GoBudapest2024: After a fantastic career Éva Risztov, #HUN #Olympic Champion swimmer retires from professional sport. We wish her good…',\n",
       " 'RT @16Sreejesh: The smile define everything 💪🙏\\n\\n@Neeraj_chopra1 \\n#history #gold #athletics #olympic #tokyo https://t.co/4rCZku4vny',\n",
       " 'RT @16Sreejesh: The smile define everything 💪🙏\\n\\n@Neeraj_chopra1 \\n#history #gold #athletics #olympic #tokyo https://t.co/4rCZku4vny',\n",
       " 'RT @16Sreejesh: The smile define everything 💪🙏\\n\\n@Neeraj_chopra1 \\n#history #gold #athletics #olympic #tokyo https://t.co/4rCZku4vny',\n",
       " \"RT @bwfmedia: What a year for #Olympic champions @GreysPolii and Apriyani Rahayu 🇮🇩\\n\\nLet's relive their triumph in Bangkok 🇹🇭 in January 🏆…\",\n",
       " \"RT @ysjagan: Congratulations to @Neeraj_Chopra1, a serving soldier of Indian Army, who has made India proud by winning the nation's first-e…\",\n",
       " 'RT @16Sreejesh: The smile define everything 💪🙏\\n\\n@Neeraj_chopra1 \\n#history #gold #athletics #olympic #tokyo https://t.co/4rCZku4vny',\n",
       " 'RT @16Sreejesh: Yeah ….. it’s taste salty, \\n\\nYeah …. I remember, it’s my sweat 😓 from last 21 years 🙏\\n\\n#medalist #olympic #games #olympicga…',\n",
       " '#NeerajChopra has been the best #athlete in track and the pro champ in every field. Here’s what you don’t know abou… https://t.co/KvJ76KHc2A',\n",
       " '.@POTUS signed an executive order imposing new measures aimed at punishing #Belarus’ President Alexander Lukashenko… https://t.co/No5mCT41h8',\n",
       " 'RT @CupidAutosNG: Registered‼️\\nMercedes Benz ✨\\nC300 2015\\nFullest option \\nIn perfect condition💯\\n9m🏷\\n#OctaFXmastery #NSPPD #AbujaTwitterCommu…',\n",
       " 'RT @16Sreejesh: The smile define everything 💪🙏\\n\\n@Neeraj_chopra1 \\n#history #gold #athletics #olympic #tokyo https://t.co/4rCZku4vny',\n",
       " 'RT @tesfaldetsport: #Eritrea has completed its #Olympic Tokyo competition. #Swimming, #cycling and #athletics, what an impressive participa…',\n",
       " 'RT @iUzmaHTahir: Kudos to @ImranKhanPTI &amp; his government who are now applying the right pressure on him to resign from the post so we can p…',\n",
       " 'RT @16Sreejesh: The smile define everything 💪🙏\\n\\n@Neeraj_chopra1 \\n#history #gold #athletics #olympic #tokyo https://t.co/4rCZku4vny',\n",
       " 'RT @16Sreejesh: The smile define everything 💪🙏\\n\\n@Neeraj_chopra1 \\n#history #gold #athletics #olympic #tokyo https://t.co/4rCZku4vny',\n",
       " 'Kudos to @ImranKhanPTI &amp; his government who are now applying the right pressure on him to resign from the post so w… https://t.co/isWwJI0sql',\n",
       " 'RT @16Sreejesh: The smile define everything 💪🙏\\n\\n@Neeraj_chopra1 \\n#history #gold #athletics #olympic #tokyo https://t.co/4rCZku4vny',\n",
       " 'RT @16Sreejesh: The smile define everything 💪🙏\\n\\n@Neeraj_chopra1 \\n#history #gold #athletics #olympic #tokyo https://t.co/4rCZku4vny',\n",
       " 'RT @investorai2: Listed few extremely inspiring lessons to learn as an #investor from the #Olympic Gold Winner #NeerajChopra. The 23-year-o…',\n",
       " 'RT @16Sreejesh: The smile define everything 💪🙏\\n\\n@Neeraj_chopra1 \\n#history #gold #athletics #olympic #tokyo https://t.co/4rCZku4vny',\n",
       " 'RT @16Sreejesh: The smile define everything 💪🙏\\n\\n@Neeraj_chopra1 \\n#history #gold #athletics #olympic #tokyo https://t.co/4rCZku4vny',\n",
       " 'RT @htcity: Desh ke liye apne andar junoon rakho : Neeraj Chopra. #Olympic gold medallist @Neeraj_chopra1 tells us why this year’s Independ…',\n",
       " 'RT @16Sreejesh: The smile define everything 💪🙏\\n\\n@Neeraj_chopra1 \\n#history #gold #athletics #olympic #tokyo https://t.co/4rCZku4vny',\n",
       " 'RT @16Sreejesh: The smile define everything 💪🙏\\n\\n@Neeraj_chopra1 \\n#history #gold #athletics #olympic #tokyo https://t.co/4rCZku4vny',\n",
       " 'RT @16Sreejesh: The smile define everything 💪🙏\\n\\n@Neeraj_chopra1 \\n#history #gold #athletics #olympic #tokyo https://t.co/4rCZku4vny',\n",
       " '@lizcaton100 Hi liz rinderette no1 and @GaryBarlow #GaryBarlow\\nHey @RobbieRinder #judgerinder is bat Robbie #batman… https://t.co/EvfnynTv36',\n",
       " 'RT @16Sreejesh: The smile define everything 💪🙏\\n\\n@Neeraj_chopra1 \\n#history #gold #athletics #olympic #tokyo https://t.co/4rCZku4vny',\n",
       " 'RT @16Sreejesh: The smile define everything 💪🙏\\n\\n@Neeraj_chopra1 \\n#history #gold #athletics #olympic #tokyo https://t.co/4rCZku4vny',\n",
       " 'RT @16Sreejesh: The smile define everything 💪🙏\\n\\n@Neeraj_chopra1 \\n#history #gold #athletics #olympic #tokyo https://t.co/4rCZku4vny',\n",
       " 'More #Olympic blogs over on our website from Camila Guzman on golf ⛳️ &amp; Ava John on #heptathlon! #sportsjournos https://t.co/E4w0WrscGi',\n",
       " 'RT @16Sreejesh: The smile define everything 💪🙏\\n\\n@Neeraj_chopra1 \\n#history #gold #athletics #olympic #tokyo https://t.co/4rCZku4vny',\n",
       " \"#TheMediaDialogues | #Tokyo2020 saw India's best ever #Olympic performance including a historic gold medal in athle… https://t.co/WGpu8gxUYL\",\n",
       " 'RT @16Sreejesh: The smile define everything 💪🙏\\n\\n@Neeraj_chopra1 \\n#history #gold #athletics #olympic #tokyo https://t.co/4rCZku4vny',\n",
       " 'RT @16Sreejesh: The smile define everything 💪🙏\\n\\n@Neeraj_chopra1 \\n#history #gold #athletics #olympic #tokyo https://t.co/4rCZku4vny',\n",
       " 'RT @LeidenGlobal: For the Chinese ultra-nationalist crowd, losing an #Olympic medal is seen to being \"unpatriotic.\"\\nDr. Florian Schneider @…',\n",
       " 'RT @16Sreejesh: The smile define everything 💪🙏\\n\\n@Neeraj_chopra1 \\n#history #gold #athletics #olympic #tokyo https://t.co/4rCZku4vny',\n",
       " 'RT @16Sreejesh: The smile define everything 💪🙏\\n\\n@Neeraj_chopra1 \\n#history #gold #athletics #olympic #tokyo https://t.co/4rCZku4vny',\n",
       " 'RT @16Sreejesh: The smile define everything 💪🙏\\n\\n@Neeraj_chopra1 \\n#history #gold #athletics #olympic #tokyo https://t.co/4rCZku4vny',\n",
       " \"RT @USAndIndia: PV Sindhu made history by becoming India's first woman athlete with two #Olympic medals. Congratulations double Olympic med…\",\n",
       " 'RT @16Sreejesh: The smile define everything 💪🙏\\n\\n@Neeraj_chopra1 \\n#history #gold #athletics #olympic #tokyo https://t.co/4rCZku4vny',\n",
       " 'RT @16Sreejesh: The smile define everything 💪🙏\\n\\n@Neeraj_chopra1 \\n#history #gold #athletics #olympic #tokyo https://t.co/4rCZku4vny',\n",
       " '@nitin_gadkari I have seen one statue at #Kolhapur near #Mahalaxmi Temple #India first #Olympic medalist',\n",
       " '1000 times salute to Ratan Tata Sir for this greatest decision. Even Indian Government could not show such courage.… https://t.co/VD2MRvPswb',\n",
       " 'RT @16Sreejesh: The smile define everything 💪🙏\\n\\n@Neeraj_chopra1 \\n#history #gold #athletics #olympic #tokyo https://t.co/4rCZku4vny',\n",
       " 'RT @16Sreejesh: The smile define everything 💪🙏\\n\\n@Neeraj_chopra1 \\n#history #gold #athletics #olympic #tokyo https://t.co/4rCZku4vny',\n",
       " 'RT @16Sreejesh: The smile define everything 💪🙏\\n\\n@Neeraj_chopra1 \\n#history #gold #athletics #olympic #tokyo https://t.co/4rCZku4vny',\n",
       " 'RT @16Sreejesh: The smile define everything 💪🙏\\n\\n@Neeraj_chopra1 \\n#history #gold #athletics #olympic #tokyo https://t.co/4rCZku4vny',\n",
       " \"RT @bwfmedia: What a year for #Olympic champions @GreysPolii and Apriyani Rahayu 🇮🇩\\n\\nLet's relive their triumph in Bangkok 🇹🇭 in January 🏆…\",\n",
       " 'RT @womensbadminton: 🏸🇮🇩🥇 Here’s my look at GreyAp’s amazing #Olympic campaign #badminton\\n\\nhttps://t.co/Vr7pqalq0c\\n📷Rachel Florencia @persi…',\n",
       " 'RT @16Sreejesh: The smile define everything 💪🙏\\n\\n@Neeraj_chopra1 \\n#history #gold #athletics #olympic #tokyo https://t.co/4rCZku4vny',\n",
       " 'RT @16Sreejesh: The smile define everything 💪🙏\\n\\n@Neeraj_chopra1 \\n#history #gold #athletics #olympic #tokyo https://t.co/4rCZku4vny',\n",
       " \"RT @APPOLICE100: It's more than a medal, it is India's pride: Andhra Pradesh Police felicitate @Pvsindhu1 for bagging the Olympic #Bronze M…\",\n",
       " 'Pranati Rai Prakash: Double Celebrations This Independence Day Due To Victory At Tokyo Olympics 2021… https://t.co/aDNtlZ72Ig',\n",
       " 'RT @16Sreejesh: The smile define everything 💪🙏\\n\\n@Neeraj_chopra1 \\n#history #gold #athletics #olympic #tokyo https://t.co/4rCZku4vny',\n",
       " 'RT @16Sreejesh: The smile define everything 💪🙏\\n\\n@Neeraj_chopra1 \\n#history #gold #athletics #olympic #tokyo https://t.co/4rCZku4vny',\n",
       " 'Our #Olympic champs have won a billion hearts. But did our athletes win despite the system? Will the govt &amp; sports… https://t.co/gZsm3Z9T3q',\n",
       " 'RT @16Sreejesh: The smile define everything 💪🙏\\n\\n@Neeraj_chopra1 \\n#history #gold #athletics #olympic #tokyo https://t.co/4rCZku4vny',\n",
       " 'RT @16Sreejesh: The smile define everything 💪🙏\\n\\n@Neeraj_chopra1 \\n#history #gold #athletics #olympic #tokyo https://t.co/4rCZku4vny',\n",
       " 'Our #Olympic champs have won a billion hearts. But did our athletes win despite the system? Will the govt &amp; sports… https://t.co/11wbZYs9SG',\n",
       " 'RT @16Sreejesh: The smile define everything 💪🙏\\n\\n@Neeraj_chopra1 \\n#history #gold #athletics #olympic #tokyo https://t.co/4rCZku4vny',\n",
       " \"RT @japan: #Tokyo2020 begins on 7/23! Since starting from Fukushima Pref.'s #JVillage on 3/25, the #Olympic #TorchRelay has traveled on an…\",\n",
       " 'RT @16Sreejesh: The smile define everything 💪🙏\\n\\n@Neeraj_chopra1 \\n#history #gold #athletics #olympic #tokyo https://t.co/4rCZku4vny',\n",
       " \"RT @ysjagan: Congratulations to @Neeraj_Chopra1, a serving soldier of Indian Army, who has made India proud by winning the nation's first-e…\",\n",
       " 'RT @16Sreejesh: The smile define everything 💪🙏\\n\\n@Neeraj_chopra1 \\n#history #gold #athletics #olympic #tokyo https://t.co/4rCZku4vny',\n",
       " 'RT @16Sreejesh: The smile define everything 💪🙏\\n\\n@Neeraj_chopra1 \\n#history #gold #athletics #olympic #tokyo https://t.co/4rCZku4vny',\n",
       " 'RT @16Sreejesh: The smile define everything 💪🙏\\n\\n@Neeraj_chopra1 \\n#history #gold #athletics #olympic #tokyo https://t.co/4rCZku4vny',\n",
       " 'RT @16Sreejesh: The smile define everything 💪🙏\\n\\n@Neeraj_chopra1 \\n#history #gold #athletics #olympic #tokyo https://t.co/4rCZku4vny',\n",
       " 'RT @16Sreejesh: The smile define everything 💪🙏\\n\\n@Neeraj_chopra1 \\n#history #gold #athletics #olympic #tokyo https://t.co/4rCZku4vny',\n",
       " 'RT @16Sreejesh: The smile define everything 💪🙏\\n\\n@Neeraj_chopra1 \\n#history #gold #athletics #olympic #tokyo https://t.co/4rCZku4vny',\n",
       " 'RT @16Sreejesh: The smile define everything 💪🙏\\n\\n@Neeraj_chopra1 \\n#history #gold #athletics #olympic #tokyo https://t.co/4rCZku4vny',\n",
       " 'RT @16Sreejesh: The smile define everything 💪🙏\\n\\n@Neeraj_chopra1 \\n#history #gold #athletics #olympic #tokyo https://t.co/4rCZku4vny',\n",
       " 'RT @16Sreejesh: The smile define everything 💪🙏\\n\\n@Neeraj_chopra1 \\n#history #gold #athletics #olympic #tokyo https://t.co/4rCZku4vny',\n",
       " 'RT @Quicktake: 🥇 Weightlifter Hidilyn Diaz just became the first #Olympic gold medalist from the Philippines.\\n\\nEarlier, we spoke to her abo…',\n",
       " \"RT @USAndIndia: PV Sindhu made history by becoming India's first woman athlete with two #Olympic medals. Congratulations double Olympic med…\",\n",
       " 'RT @sally_mills: These #CrystalPalaceNationalSportsCentre based junior athletes, with #Olympic aspirations, spoke so eloquently today about…',\n",
       " 'Well done to Nicolae Cojocaru - Working Hard at the #Olympic Training Centre in Moldova\\n\\n#ReadyToWrestle?… https://t.co/t7DMGPtI5E',\n",
       " 'RT @sports_odisha: 𝑻𝒐𝒖𝒄𝒉𝒅𝒐𝒘𝒏 𝑶𝒅𝒊𝒔𝒉𝒂! \\n\\nOur #Olympic hockey heroes return home after scripting history at #Tokyo. Welcome back! 🇮🇳 https://t…',\n",
       " 'RT @16Sreejesh: The smile define everything 💪🙏\\n\\n@Neeraj_chopra1 \\n#history #gold #athletics #olympic #tokyo https://t.co/4rCZku4vny',\n",
       " 'RT @16Sreejesh: The smile define everything 💪🙏\\n\\n@Neeraj_chopra1 \\n#history #gold #athletics #olympic #tokyo https://t.co/4rCZku4vny',\n",
       " 'RT @16Sreejesh: New face of Indian Athelet’s 💪💪💪💪\\n\\nCongratulation @Neeraj_chopra1 🙏\\n#gold #tokyo2020 #olympic #history https://t.co/GdaX8Dv…',\n",
       " 'RT @16Sreejesh: The smile define everything 💪🙏\\n\\n@Neeraj_chopra1 \\n#history #gold #athletics #olympic #tokyo https://t.co/4rCZku4vny',\n",
       " 'RT @16Sreejesh: The smile define everything 💪🙏\\n\\n@Neeraj_chopra1 \\n#history #gold #athletics #olympic #tokyo https://t.co/4rCZku4vny',\n",
       " \"RT @APPOLICE100: It's more than a medal, it is India's pride: Andhra Pradesh Police felicitate @Pvsindhu1 for bagging the Olympic #Bronze M…\",\n",
       " \"RT @GermanyinMumbai: #InTheNews Why a German village of 130 celebrated #NeerajChopra’s Olympic gold...\\n@Neeraj_chopra1's German coach Klaus…\",\n",
       " 'RT @16Sreejesh: The smile define everything 💪🙏\\n\\n@Neeraj_chopra1 \\n#history #gold #athletics #olympic #tokyo https://t.co/4rCZku4vny',\n",
       " 'Pistol dominating for the @The_Mail_Bag #RSNCentral #Formexpress #CrystalSpirit and the great @GatorGately delivere… https://t.co/X3DIIVmi3o',\n",
       " 'RT @16Sreejesh: The smile define everything 💪🙏\\n\\n@Neeraj_chopra1 \\n#history #gold #athletics #olympic #tokyo https://t.co/4rCZku4vny',\n",
       " 'RT @womensbadminton: 🏸🇮🇩🥇 Here’s my look at GreyAp’s amazing #Olympic campaign #badminton\\n\\nhttps://t.co/Vr7pqalq0c\\n📷Rachel Florencia @persi…',\n",
       " 'RT @16Sreejesh: The smile define everything 💪🙏\\n\\n@Neeraj_chopra1 \\n#history #gold #athletics #olympic #tokyo https://t.co/4rCZku4vny',\n",
       " 'RT @16Sreejesh: The smile define everything 💪🙏\\n\\n@Neeraj_chopra1 \\n#history #gold #athletics #olympic #tokyo https://t.co/4rCZku4vny',\n",
       " 'RT @16Sreejesh: The smile define everything 💪🙏\\n\\n@Neeraj_chopra1 \\n#history #gold #athletics #olympic #tokyo https://t.co/4rCZku4vny',\n",
       " 'RT @16Sreejesh: The smile define everything 💪🙏\\n\\n@Neeraj_chopra1 \\n#history #gold #athletics #olympic #tokyo https://t.co/4rCZku4vny',\n",
       " 'RT @16Sreejesh: The smile define everything 💪🙏\\n\\n@Neeraj_chopra1 \\n#history #gold #athletics #olympic #tokyo https://t.co/4rCZku4vny',\n",
       " 'RT @16Sreejesh: The smile define everything 💪🙏\\n\\n@Neeraj_chopra1 \\n#history #gold #athletics #olympic #tokyo https://t.co/4rCZku4vny',\n",
       " 'RT @16Sreejesh: The smile define everything 💪🙏\\n\\n@Neeraj_chopra1 \\n#history #gold #athletics #olympic #tokyo https://t.co/4rCZku4vny',\n",
       " 'In a way of showing appreciation of their performance during the #Olympic Games, a Nadi restaurant decided to cater… https://t.co/2o7iPRysyX',\n",
       " 'RT @16Sreejesh: The smile define everything 💪🙏\\n\\n@Neeraj_chopra1 \\n#history #gold #athletics #olympic #tokyo https://t.co/4rCZku4vny',\n",
       " 'RT @SumathiIPS: Thank you dear @Pvsindhu1 for adorning the prestigious #Olympic medalto  @TelanganaCOPs \\nIt’s infact the otherway round ..f…',\n",
       " 'RT @16Sreejesh: The smile define everything 💪🙏\\n\\n@Neeraj_chopra1 \\n#history #gold #athletics #olympic #tokyo https://t.co/4rCZku4vny',\n",
       " 'RT @16Sreejesh: The smile define everything 💪🙏\\n\\n@Neeraj_chopra1 \\n#history #gold #athletics #olympic #tokyo https://t.co/4rCZku4vny',\n",
       " 'RT @16Sreejesh: The smile define everything 💪🙏\\n\\n@Neeraj_chopra1 \\n#history #gold #athletics #olympic #tokyo https://t.co/4rCZku4vny',\n",
       " 'RT @SumathiIPS: Thank you dear @Pvsindhu1 for adorning the prestigious #Olympic medalto  @TelanganaCOPs \\nIt’s infact the otherway round ..f…',\n",
       " 'RT @16Sreejesh: The smile define everything 💪🙏\\n\\n@Neeraj_chopra1 \\n#history #gold #athletics #olympic #tokyo https://t.co/4rCZku4vny',\n",
       " \"RT @bwfmedia: What a year for #Olympic champions @GreysPolii and Apriyani Rahayu 🇮🇩\\n\\nLet's relive their triumph in Bangkok 🇹🇭 in January 🏆…\",\n",
       " 'RT @16Sreejesh: The smile define everything 💪🙏\\n\\n@Neeraj_chopra1 \\n#history #gold #athletics #olympic #tokyo https://t.co/4rCZku4vny',\n",
       " 'RT @16Sreejesh: The smile define everything 💪🙏\\n\\n@Neeraj_chopra1 \\n#history #gold #athletics #olympic #tokyo https://t.co/4rCZku4vny',\n",
       " 'RT @16Sreejesh: The smile define everything 💪🙏\\n\\n@Neeraj_chopra1 \\n#history #gold #athletics #olympic #tokyo https://t.co/4rCZku4vny',\n",
       " 'RT @eightbridges_88: [KIMONO Project]\\nhttps://t.co/SQWeA6d2G4\\n\\nKimono with the motif of all the countries participating in the Olympics.\\n\\n#…',\n",
       " 'RT @16Sreejesh: The smile define everything 💪🙏\\n\\n@Neeraj_chopra1 \\n#history #gold #athletics #olympic #tokyo https://t.co/4rCZku4vny',\n",
       " 'RT @16Sreejesh: The smile define everything 💪🙏\\n\\n@Neeraj_chopra1 \\n#history #gold #athletics #olympic #tokyo https://t.co/4rCZku4vny',\n",
       " 'RT @womensbadminton: 🏸🇮🇩🥇 Here’s my look at GreyAp’s amazing #Olympic campaign #badminton\\n\\nhttps://t.co/Vr7pqalq0c\\n📷Rachel Florencia @persi…',\n",
       " 'RT @16Sreejesh: The smile define everything 💪🙏\\n\\n@Neeraj_chopra1 \\n#history #gold #athletics #olympic #tokyo https://t.co/4rCZku4vny',\n",
       " 'RT @16Sreejesh: The smile define everything 💪🙏\\n\\n@Neeraj_chopra1 \\n#history #gold #athletics #olympic #tokyo https://t.co/4rCZku4vny',\n",
       " 'RT @16Sreejesh: The smile define everything 💪🙏\\n\\n@Neeraj_chopra1 \\n#history #gold #athletics #olympic #tokyo https://t.co/4rCZku4vny',\n",
       " 'RT @janhavee: How quickly things changed? Last week, exactly around this time, I was heading to the #Olympic Stadium in #Tokyo to watch Jav…',\n",
       " 'Olympic surprise: American Finke leaves Tokyo with two golds TOKYO (AP) &amp;mdash; Bobby Finke will bec... #Olympic… https://t.co/4J4G7krNok',\n",
       " 'RT @16Sreejesh: The smile define everything 💪🙏\\n\\n@Neeraj_chopra1 \\n#history #gold #athletics #olympic #tokyo https://t.co/4rCZku4vny',\n",
       " 'RT @16Sreejesh: The smile define everything 💪🙏\\n\\n@Neeraj_chopra1 \\n#history #gold #athletics #olympic #tokyo https://t.co/4rCZku4vny',\n",
       " 'RT @16Sreejesh: The smile define everything 💪🙏\\n\\n@Neeraj_chopra1 \\n#history #gold #athletics #olympic #tokyo https://t.co/4rCZku4vny',\n",
       " 'RT @16Sreejesh: The smile define everything 💪🙏\\n\\n@Neeraj_chopra1 \\n#history #gold #athletics #olympic #tokyo https://t.co/4rCZku4vny',\n",
       " 'RT @16Sreejesh: The smile define everything 💪🙏\\n\\n@Neeraj_chopra1 \\n#history #gold #athletics #olympic #tokyo https://t.co/4rCZku4vny',\n",
       " \"Bangladesh doesn't have an #Olympics team..Because all those who can jump, run or swim have already crossed border… https://t.co/ZaT38CvH0z\",\n",
       " 'For the Chinese ultra-nationalist crowd, losing an #Olympic medal is seen to being \"unpatriotic.\"\\nDr. Florian Schne… https://t.co/H20ueWkgUo',\n",
       " 'RT @16Sreejesh: The smile define everything 💪🙏\\n\\n@Neeraj_chopra1 \\n#history #gold #athletics #olympic #tokyo https://t.co/4rCZku4vny',\n",
       " 'RT @16Sreejesh: The smile define everything 💪🙏\\n\\n@Neeraj_chopra1 \\n#history #gold #athletics #olympic #tokyo https://t.co/4rCZku4vny',\n",
       " \"RT @GermanyinMumbai: #InTheNews Why a German village of 130 celebrated #NeerajChopra’s Olympic gold...\\n@Neeraj_chopra1's German coach Klaus…\",\n",
       " 'RT @16Sreejesh: The smile define everything 💪🙏\\n\\n@Neeraj_chopra1 \\n#history #gold #athletics #olympic #tokyo https://t.co/4rCZku4vny',\n",
       " 'RT @16Sreejesh: The smile define everything 💪🙏\\n\\n@Neeraj_chopra1 \\n#history #gold #athletics #olympic #tokyo https://t.co/4rCZku4vny',\n",
       " \"@thehill 🇯🇵This is sexual harassment committed by a Japanese politician to the Tokyo Olympics softball women's gold… https://t.co/EbFI4FbxdD\",\n",
       " 'RT @16Sreejesh: The smile define everything 💪🙏\\n\\n@Neeraj_chopra1 \\n#history #gold #athletics #olympic #tokyo https://t.co/4rCZku4vny',\n",
       " 'RT @janhavee: How quickly things changed? Last week, exactly around this time, I was heading to the #Olympic Stadium in #Tokyo to watch Jav…',\n",
       " 'RT @16Sreejesh: The smile define everything 💪🙏\\n\\n@Neeraj_chopra1 \\n#history #gold #athletics #olympic #tokyo https://t.co/4rCZku4vny',\n",
       " \"RT @StarschemaLtd: Celebrate women's individual gold medalists at #Tokyo2020 and learn about women's #Olympic history with this dashboard b…\",\n",
       " \"RT @DSuffragettes: Women's individual gold medalists at #Tokyo2020 report is available for exploration on Tableau public!\\n👉https://t.co/2QJ…\",\n",
       " '#自民党は人災\\n\\n#Tokyo2020 #TokyoOlympics\\n#OLYMPIC JAPAN CRAZY #Olympics\\n#五輪終結 #自民党 #日本会議 #在特会 #統一教会 #大韓民国国家情報院\\n#NHK… https://t.co/AjSNWa4nwc',\n",
       " 'How quickly things changed? Last week, exactly around this time, I was heading to the #Olympic Stadium in #Tokyo to… https://t.co/79o7KGgI5F']"
      ]
     },
     "execution_count": 8,
     "metadata": {},
     "output_type": "execute_result"
    }
   ],
   "source": [
    "tweets = tw.Cursor(api.search,q=search_words,lang=\"en\",since=date_since).items(200)\n",
    "#tweets = tw.Cursor(api.search, lang=\"en\",since=date_since).items(20)\n",
    "[tweet.text for tweet in tweets]"
   ]
  },
  {
   "cell_type": "code",
   "execution_count": 9,
   "metadata": {},
   "outputs": [
    {
     "data": {
      "text/plain": [
       "'#olympic'"
      ]
     },
     "execution_count": 9,
     "metadata": {},
     "output_type": "execute_result"
    }
   ],
   "source": [
    "new_search= search_words \n",
    "new_search"
   ]
  },
  {
   "cell_type": "code",
   "execution_count": 10,
   "metadata": {},
   "outputs": [
    {
     "data": {
      "text/plain": [
       "[['DevoteeYs', 1, 'Ys Jagan Devotee', False],\n",
       " ['neeraj_choyal', 31, 'Neeraj Choyal', False],\n",
       " ['RatnakarKrishn1', 411, 'Ratnakar', False],\n",
       " ['AkashMk24520486', 7, 'Akash Mk', False],\n",
       " ['AyuTriwn', 845, 'pengabdiwifi', False],\n",
       " ['missartola', 5367, 'smita mishra 🇮🇳', False],\n",
       " ['crownchronicles', 9770, 'The Crown Chronicles', False],\n",
       " ['CricGorgeous', 154, 'Mahi', False],\n",
       " ['BotMobilegame', 425, 'Mobile Game Bot', False],\n",
       " ['KishanMaiyad', 46, 'KRUSHNAM', False],\n",
       " ['MyLife_Congress', 3531, 'I Am Being Human 💕🖐💕', False],\n",
       " ['PavanKu19517349', 9, 'PAVAN KUMAR PRAJAPTI', False],\n",
       " ['chomsessentials', 57, 'Chomsessentials', False],\n",
       " ['RFYouthSports', 4919, 'RF Youth Sports', True],\n",
       " ['Nitish84984891', 4, 'Nitish', False],\n",
       " ['velvetangels17', 837, 'Sofia⁷≷ (fan.acc)🥰💫🍒⚾️🏐🏸', False],\n",
       " ['SalemDinesh12', 4, 'Salem Dinesh', False],\n",
       " ['JustAsk46082871', 41, 'Just Asking', False],\n",
       " ['GtwoRath', 232, 'Jitu', False],\n",
       " ['donaldhussle', 859, 'Donaldhussle', False],\n",
       " ['ccitraandini', 155, 'Citra Andini 🌙✨', False],\n",
       " ['GulrezShagufa', 20, 'Shagufa Khan', False],\n",
       " ['Khanji61685240', 1373, 'Khanji', False],\n",
       " ['MitraDebu1', 22, 'MitraDebu', False],\n",
       " ['indianposten', 401, 'indianposten', False],\n",
       " ['ABKPE', 261, 'Alderbrook School PE', False],\n",
       " ['ThePEpodcast_', 66, 'The PE Podcast', False],\n",
       " ['HaeSoo23', 251, 'Hae Soo', False],\n",
       " ['hi_dstaeri', 264, 'ᮓᮨᮞ᮪ᮒᮢᮤ', False],\n",
       " ['Andriyan_syahh', 717, 'Andriyansyah Unan', False],\n",
       " ['Rahul90431108', 50, 'Rahul', False],\n",
       " ['BlackArrowsBC', 263, 'Black Arrows', False],\n",
       " ['thebulletinbox', 22, 'The Bulletin Box', False],\n",
       " ['BickyDa96697382', 19, 'Bicky Das', False],\n",
       " ['YordaBerhane', 15, 'Yordanos', False],\n",
       " ['eeraavihcvb', 2, 'Crystal', False],\n",
       " ['Crystaltuner', 340, 'Krystal Bea', False],\n",
       " ['Crystaltuner', 340, 'Krystal Bea', False],\n",
       " ['kachave_ashwini', 0, 'ashwini kachave', False],\n",
       " ['nadhirahmania', 269, 'Nadh 🐧🐰', False],\n",
       " ['VIVEKSINGHANIA2', 1960, 'VIVEK SINGHANIA', False],\n",
       " ['KRISYNR', 5, 'KRISHAN KUMAR', False],\n",
       " ['moulanapanji', 538, 'Panji Moulana', False],\n",
       " ['Son_of_Soil123', 60, 'From_the_soul', False],\n",
       " ['CNBCTV18News', 956644, 'CNBC-TV18', True],\n",
       " ['BiIndia', 110777, 'Business Insider India🇮🇳', True],\n",
       " ['bludgerwood', 148, 'ً', False],\n",
       " ['_minjeong_j4f',\n",
       "  1225,\n",
       "  '👀Minjeong là nhân viên của JinHit Entertainment👀',\n",
       "  False],\n",
       " ['Akk10342145', 2, 'Akk', False],\n",
       " ['IsmiMaulidyati', 1572, 'イスミ', False]]"
      ]
     },
     "execution_count": 10,
     "metadata": {},
     "output_type": "execute_result"
    }
   ],
   "source": [
    "\n",
    "tweets = tw.Cursor(api.search, q=new_search,lang=\"en\",since=date_since).items(50)\n",
    "users_details = [[tweet.user.screen_name,tweet.user.followers_count,tweet.user.name,tweet.user.verified]for tweet in tweets]\n",
    "users_details"
   ]
  },
  {
   "cell_type": "code",
   "execution_count": 11,
   "metadata": {},
   "outputs": [
    {
     "name": "stdout",
     "output_type": "stream",
     "text": [
      "root\n",
      " |-- screen_name: string (nullable = true)\n",
      " |-- followers_count: integer (nullable = true)\n",
      " |-- name: string (nullable = true)\n",
      " |-- verified: string (nullable = true)\n",
      "\n"
     ]
    },
    {
     "ename": "Py4JJavaError",
     "evalue": "An error occurred while calling o62.showString.\n: org.apache.spark.SparkException: Job aborted due to stage failure: Task 0 in stage 0.0 failed 1 times, most recent failure: Lost task 0.0 in stage 0.0 (TID 0) (POOJA executor driver): org.apache.spark.SparkException: Python worker failed to connect back.\r\n\tat org.apache.spark.api.python.PythonWorkerFactory.createSimpleWorker(PythonWorkerFactory.scala:182)\r\n\tat org.apache.spark.api.python.PythonWorkerFactory.create(PythonWorkerFactory.scala:107)\r\n\tat org.apache.spark.SparkEnv.createPythonWorker(SparkEnv.scala:119)\r\n\tat org.apache.spark.api.python.BasePythonRunner.compute(PythonRunner.scala:145)\r\n\tat org.apache.spark.api.python.PythonRDD.compute(PythonRDD.scala:65)\r\n\tat org.apache.spark.rdd.RDD.computeOrReadCheckpoint(RDD.scala:373)\r\n\tat org.apache.spark.rdd.RDD.iterator(RDD.scala:337)\r\n\tat org.apache.spark.rdd.MapPartitionsRDD.compute(MapPartitionsRDD.scala:52)\r\n\tat org.apache.spark.rdd.RDD.computeOrReadCheckpoint(RDD.scala:373)\r\n\tat org.apache.spark.rdd.RDD.iterator(RDD.scala:337)\r\n\tat org.apache.spark.rdd.MapPartitionsRDD.compute(MapPartitionsRDD.scala:52)\r\n\tat org.apache.spark.rdd.RDD.computeOrReadCheckpoint(RDD.scala:373)\r\n\tat org.apache.spark.rdd.RDD.iterator(RDD.scala:337)\r\n\tat org.apache.spark.rdd.MapPartitionsRDD.compute(MapPartitionsRDD.scala:52)\r\n\tat org.apache.spark.rdd.RDD.computeOrReadCheckpoint(RDD.scala:373)\r\n\tat org.apache.spark.rdd.RDD.iterator(RDD.scala:337)\r\n\tat org.apache.spark.rdd.MapPartitionsRDD.compute(MapPartitionsRDD.scala:52)\r\n\tat org.apache.spark.rdd.RDD.computeOrReadCheckpoint(RDD.scala:373)\r\n\tat org.apache.spark.rdd.RDD.iterator(RDD.scala:337)\r\n\tat org.apache.spark.rdd.MapPartitionsRDD.compute(MapPartitionsRDD.scala:52)\r\n\tat org.apache.spark.rdd.RDD.computeOrReadCheckpoint(RDD.scala:373)\r\n\tat org.apache.spark.rdd.RDD.iterator(RDD.scala:337)\r\n\tat org.apache.spark.scheduler.ResultTask.runTask(ResultTask.scala:90)\r\n\tat org.apache.spark.scheduler.Task.run(Task.scala:131)\r\n\tat org.apache.spark.executor.Executor$TaskRunner.$anonfun$run$3(Executor.scala:497)\r\n\tat org.apache.spark.util.Utils$.tryWithSafeFinally(Utils.scala:1439)\r\n\tat org.apache.spark.executor.Executor$TaskRunner.run(Executor.scala:500)\r\n\tat java.util.concurrent.ThreadPoolExecutor.runWorker(Unknown Source)\r\n\tat java.util.concurrent.ThreadPoolExecutor$Worker.run(Unknown Source)\r\n\tat java.lang.Thread.run(Unknown Source)\r\nCaused by: java.net.SocketTimeoutException: Accept timed out\r\n\tat java.net.DualStackPlainSocketImpl.waitForNewConnection(Native Method)\r\n\tat java.net.DualStackPlainSocketImpl.socketAccept(Unknown Source)\r\n\tat java.net.AbstractPlainSocketImpl.accept(Unknown Source)\r\n\tat java.net.PlainSocketImpl.accept(Unknown Source)\r\n\tat java.net.ServerSocket.implAccept(Unknown Source)\r\n\tat java.net.ServerSocket.accept(Unknown Source)\r\n\tat org.apache.spark.api.python.PythonWorkerFactory.createSimpleWorker(PythonWorkerFactory.scala:174)\r\n\t... 29 more\r\n\nDriver stacktrace:\r\n\tat org.apache.spark.scheduler.DAGScheduler.failJobAndIndependentStages(DAGScheduler.scala:2258)\r\n\tat org.apache.spark.scheduler.DAGScheduler.$anonfun$abortStage$2(DAGScheduler.scala:2207)\r\n\tat org.apache.spark.scheduler.DAGScheduler.$anonfun$abortStage$2$adapted(DAGScheduler.scala:2206)\r\n\tat scala.collection.mutable.ResizableArray.foreach(ResizableArray.scala:62)\r\n\tat scala.collection.mutable.ResizableArray.foreach$(ResizableArray.scala:55)\r\n\tat scala.collection.mutable.ArrayBuffer.foreach(ArrayBuffer.scala:49)\r\n\tat org.apache.spark.scheduler.DAGScheduler.abortStage(DAGScheduler.scala:2206)\r\n\tat org.apache.spark.scheduler.DAGScheduler.$anonfun$handleTaskSetFailed$1(DAGScheduler.scala:1079)\r\n\tat org.apache.spark.scheduler.DAGScheduler.$anonfun$handleTaskSetFailed$1$adapted(DAGScheduler.scala:1079)\r\n\tat scala.Option.foreach(Option.scala:407)\r\n\tat org.apache.spark.scheduler.DAGScheduler.handleTaskSetFailed(DAGScheduler.scala:1079)\r\n\tat org.apache.spark.scheduler.DAGSchedulerEventProcessLoop.doOnReceive(DAGScheduler.scala:2445)\r\n\tat org.apache.spark.scheduler.DAGSchedulerEventProcessLoop.onReceive(DAGScheduler.scala:2387)\r\n\tat org.apache.spark.scheduler.DAGSchedulerEventProcessLoop.onReceive(DAGScheduler.scala:2376)\r\n\tat org.apache.spark.util.EventLoop$$anon$1.run(EventLoop.scala:49)\r\n\tat org.apache.spark.scheduler.DAGScheduler.runJob(DAGScheduler.scala:868)\r\n\tat org.apache.spark.SparkContext.runJob(SparkContext.scala:2196)\r\n\tat org.apache.spark.SparkContext.runJob(SparkContext.scala:2217)\r\n\tat org.apache.spark.SparkContext.runJob(SparkContext.scala:2236)\r\n\tat org.apache.spark.sql.execution.SparkPlan.executeTake(SparkPlan.scala:472)\r\n\tat org.apache.spark.sql.execution.SparkPlan.executeTake(SparkPlan.scala:425)\r\n\tat org.apache.spark.sql.execution.CollectLimitExec.executeCollect(limit.scala:47)\r\n\tat org.apache.spark.sql.Dataset.collectFromPlan(Dataset.scala:3696)\r\n\tat org.apache.spark.sql.Dataset.$anonfun$head$1(Dataset.scala:2722)\r\n\tat org.apache.spark.sql.Dataset.$anonfun$withAction$1(Dataset.scala:3687)\r\n\tat org.apache.spark.sql.execution.SQLExecution$.$anonfun$withNewExecutionId$5(SQLExecution.scala:103)\r\n\tat org.apache.spark.sql.execution.SQLExecution$.withSQLConfPropagated(SQLExecution.scala:163)\r\n\tat org.apache.spark.sql.execution.SQLExecution$.$anonfun$withNewExecutionId$1(SQLExecution.scala:90)\r\n\tat org.apache.spark.sql.SparkSession.withActive(SparkSession.scala:775)\r\n\tat org.apache.spark.sql.execution.SQLExecution$.withNewExecutionId(SQLExecution.scala:64)\r\n\tat org.apache.spark.sql.Dataset.withAction(Dataset.scala:3685)\r\n\tat org.apache.spark.sql.Dataset.head(Dataset.scala:2722)\r\n\tat org.apache.spark.sql.Dataset.take(Dataset.scala:2929)\r\n\tat org.apache.spark.sql.Dataset.getRows(Dataset.scala:301)\r\n\tat org.apache.spark.sql.Dataset.showString(Dataset.scala:338)\r\n\tat sun.reflect.NativeMethodAccessorImpl.invoke0(Native Method)\r\n\tat sun.reflect.NativeMethodAccessorImpl.invoke(Unknown Source)\r\n\tat sun.reflect.DelegatingMethodAccessorImpl.invoke(Unknown Source)\r\n\tat java.lang.reflect.Method.invoke(Unknown Source)\r\n\tat py4j.reflection.MethodInvoker.invoke(MethodInvoker.java:244)\r\n\tat py4j.reflection.ReflectionEngine.invoke(ReflectionEngine.java:357)\r\n\tat py4j.Gateway.invoke(Gateway.java:282)\r\n\tat py4j.commands.AbstractCommand.invokeMethod(AbstractCommand.java:132)\r\n\tat py4j.commands.CallCommand.execute(CallCommand.java:79)\r\n\tat py4j.GatewayConnection.run(GatewayConnection.java:238)\r\n\tat java.lang.Thread.run(Unknown Source)\r\nCaused by: org.apache.spark.SparkException: Python worker failed to connect back.\r\n\tat org.apache.spark.api.python.PythonWorkerFactory.createSimpleWorker(PythonWorkerFactory.scala:182)\r\n\tat org.apache.spark.api.python.PythonWorkerFactory.create(PythonWorkerFactory.scala:107)\r\n\tat org.apache.spark.SparkEnv.createPythonWorker(SparkEnv.scala:119)\r\n\tat org.apache.spark.api.python.BasePythonRunner.compute(PythonRunner.scala:145)\r\n\tat org.apache.spark.api.python.PythonRDD.compute(PythonRDD.scala:65)\r\n\tat org.apache.spark.rdd.RDD.computeOrReadCheckpoint(RDD.scala:373)\r\n\tat org.apache.spark.rdd.RDD.iterator(RDD.scala:337)\r\n\tat org.apache.spark.rdd.MapPartitionsRDD.compute(MapPartitionsRDD.scala:52)\r\n\tat org.apache.spark.rdd.RDD.computeOrReadCheckpoint(RDD.scala:373)\r\n\tat org.apache.spark.rdd.RDD.iterator(RDD.scala:337)\r\n\tat org.apache.spark.rdd.MapPartitionsRDD.compute(MapPartitionsRDD.scala:52)\r\n\tat org.apache.spark.rdd.RDD.computeOrReadCheckpoint(RDD.scala:373)\r\n\tat org.apache.spark.rdd.RDD.iterator(RDD.scala:337)\r\n\tat org.apache.spark.rdd.MapPartitionsRDD.compute(MapPartitionsRDD.scala:52)\r\n\tat org.apache.spark.rdd.RDD.computeOrReadCheckpoint(RDD.scala:373)\r\n\tat org.apache.spark.rdd.RDD.iterator(RDD.scala:337)\r\n\tat org.apache.spark.rdd.MapPartitionsRDD.compute(MapPartitionsRDD.scala:52)\r\n\tat org.apache.spark.rdd.RDD.computeOrReadCheckpoint(RDD.scala:373)\r\n\tat org.apache.spark.rdd.RDD.iterator(RDD.scala:337)\r\n\tat org.apache.spark.rdd.MapPartitionsRDD.compute(MapPartitionsRDD.scala:52)\r\n\tat org.apache.spark.rdd.RDD.computeOrReadCheckpoint(RDD.scala:373)\r\n\tat org.apache.spark.rdd.RDD.iterator(RDD.scala:337)\r\n\tat org.apache.spark.scheduler.ResultTask.runTask(ResultTask.scala:90)\r\n\tat org.apache.spark.scheduler.Task.run(Task.scala:131)\r\n\tat org.apache.spark.executor.Executor$TaskRunner.$anonfun$run$3(Executor.scala:497)\r\n\tat org.apache.spark.util.Utils$.tryWithSafeFinally(Utils.scala:1439)\r\n\tat org.apache.spark.executor.Executor$TaskRunner.run(Executor.scala:500)\r\n\tat java.util.concurrent.ThreadPoolExecutor.runWorker(Unknown Source)\r\n\tat java.util.concurrent.ThreadPoolExecutor$Worker.run(Unknown Source)\r\n\t... 1 more\r\nCaused by: java.net.SocketTimeoutException: Accept timed out\r\n\tat java.net.DualStackPlainSocketImpl.waitForNewConnection(Native Method)\r\n\tat java.net.DualStackPlainSocketImpl.socketAccept(Unknown Source)\r\n\tat java.net.AbstractPlainSocketImpl.accept(Unknown Source)\r\n\tat java.net.PlainSocketImpl.accept(Unknown Source)\r\n\tat java.net.ServerSocket.implAccept(Unknown Source)\r\n\tat java.net.ServerSocket.accept(Unknown Source)\r\n\tat org.apache.spark.api.python.PythonWorkerFactory.createSimpleWorker(PythonWorkerFactory.scala:174)\r\n\t... 29 more\r\n",
     "output_type": "error",
     "traceback": [
      "\u001b[1;31m---------------------------------------------------------------------------\u001b[0m",
      "\u001b[1;31mPy4JJavaError\u001b[0m                             Traceback (most recent call last)",
      "\u001b[1;32m<ipython-input-11-e4f6157929a7>\u001b[0m in \u001b[0;36m<module>\u001b[1;34m\u001b[0m\n\u001b[0;32m     10\u001b[0m \u001b[0mdf\u001b[0m\u001b[1;33m.\u001b[0m\u001b[0mprintSchema\u001b[0m\u001b[1;33m(\u001b[0m\u001b[1;33m)\u001b[0m\u001b[1;33m\u001b[0m\u001b[1;33m\u001b[0m\u001b[0m\n\u001b[0;32m     11\u001b[0m \u001b[1;31m#df.show(truncate=False)\u001b[0m\u001b[1;33m\u001b[0m\u001b[1;33m\u001b[0m\u001b[1;33m\u001b[0m\u001b[0m\n\u001b[1;32m---> 12\u001b[1;33m \u001b[0mdf\u001b[0m\u001b[1;33m.\u001b[0m\u001b[0mwhere\u001b[0m\u001b[1;33m(\u001b[0m\u001b[0mdf\u001b[0m\u001b[1;33m.\u001b[0m\u001b[0mverified\u001b[0m \u001b[1;33m==\u001b[0m \u001b[1;34m\"true\"\u001b[0m\u001b[1;33m)\u001b[0m\u001b[1;33m.\u001b[0m\u001b[0mshow\u001b[0m\u001b[1;33m(\u001b[0m\u001b[1;33m)\u001b[0m\u001b[1;33m\u001b[0m\u001b[1;33m\u001b[0m\u001b[0m\n\u001b[0m",
      "\u001b[1;32mC:\\opt\\spark\\spark-3.1.2-bin-hadoop3.2\\python\\pyspark\\sql\\dataframe.py\u001b[0m in \u001b[0;36mshow\u001b[1;34m(self, n, truncate, vertical)\u001b[0m\n\u001b[0;32m    482\u001b[0m         \"\"\"\n\u001b[0;32m    483\u001b[0m         \u001b[1;32mif\u001b[0m \u001b[0misinstance\u001b[0m\u001b[1;33m(\u001b[0m\u001b[0mtruncate\u001b[0m\u001b[1;33m,\u001b[0m \u001b[0mbool\u001b[0m\u001b[1;33m)\u001b[0m \u001b[1;32mand\u001b[0m \u001b[0mtruncate\u001b[0m\u001b[1;33m:\u001b[0m\u001b[1;33m\u001b[0m\u001b[1;33m\u001b[0m\u001b[0m\n\u001b[1;32m--> 484\u001b[1;33m             \u001b[0mprint\u001b[0m\u001b[1;33m(\u001b[0m\u001b[0mself\u001b[0m\u001b[1;33m.\u001b[0m\u001b[0m_jdf\u001b[0m\u001b[1;33m.\u001b[0m\u001b[0mshowString\u001b[0m\u001b[1;33m(\u001b[0m\u001b[0mn\u001b[0m\u001b[1;33m,\u001b[0m \u001b[1;36m20\u001b[0m\u001b[1;33m,\u001b[0m \u001b[0mvertical\u001b[0m\u001b[1;33m)\u001b[0m\u001b[1;33m)\u001b[0m\u001b[1;33m\u001b[0m\u001b[1;33m\u001b[0m\u001b[0m\n\u001b[0m\u001b[0;32m    485\u001b[0m         \u001b[1;32melse\u001b[0m\u001b[1;33m:\u001b[0m\u001b[1;33m\u001b[0m\u001b[1;33m\u001b[0m\u001b[0m\n\u001b[0;32m    486\u001b[0m             \u001b[0mprint\u001b[0m\u001b[1;33m(\u001b[0m\u001b[0mself\u001b[0m\u001b[1;33m.\u001b[0m\u001b[0m_jdf\u001b[0m\u001b[1;33m.\u001b[0m\u001b[0mshowString\u001b[0m\u001b[1;33m(\u001b[0m\u001b[0mn\u001b[0m\u001b[1;33m,\u001b[0m \u001b[0mint\u001b[0m\u001b[1;33m(\u001b[0m\u001b[0mtruncate\u001b[0m\u001b[1;33m)\u001b[0m\u001b[1;33m,\u001b[0m \u001b[0mvertical\u001b[0m\u001b[1;33m)\u001b[0m\u001b[1;33m)\u001b[0m\u001b[1;33m\u001b[0m\u001b[1;33m\u001b[0m\u001b[0m\n",
      "\u001b[1;32m~\\Anaconda3\\lib\\site-packages\\py4j\\java_gateway.py\u001b[0m in \u001b[0;36m__call__\u001b[1;34m(self, *args)\u001b[0m\n\u001b[0;32m   1255\u001b[0m         \u001b[0manswer\u001b[0m \u001b[1;33m=\u001b[0m \u001b[0mself\u001b[0m\u001b[1;33m.\u001b[0m\u001b[0mgateway_client\u001b[0m\u001b[1;33m.\u001b[0m\u001b[0msend_command\u001b[0m\u001b[1;33m(\u001b[0m\u001b[0mcommand\u001b[0m\u001b[1;33m)\u001b[0m\u001b[1;33m\u001b[0m\u001b[1;33m\u001b[0m\u001b[0m\n\u001b[0;32m   1256\u001b[0m         return_value = get_return_value(\n\u001b[1;32m-> 1257\u001b[1;33m             answer, self.gateway_client, self.target_id, self.name)\n\u001b[0m\u001b[0;32m   1258\u001b[0m \u001b[1;33m\u001b[0m\u001b[0m\n\u001b[0;32m   1259\u001b[0m         \u001b[1;32mfor\u001b[0m \u001b[0mtemp_arg\u001b[0m \u001b[1;32min\u001b[0m \u001b[0mtemp_args\u001b[0m\u001b[1;33m:\u001b[0m\u001b[1;33m\u001b[0m\u001b[1;33m\u001b[0m\u001b[0m\n",
      "\u001b[1;32mC:\\opt\\spark\\spark-3.1.2-bin-hadoop3.2\\python\\pyspark\\sql\\utils.py\u001b[0m in \u001b[0;36mdeco\u001b[1;34m(*a, **kw)\u001b[0m\n\u001b[0;32m    109\u001b[0m     \u001b[1;32mdef\u001b[0m \u001b[0mdeco\u001b[0m\u001b[1;33m(\u001b[0m\u001b[1;33m*\u001b[0m\u001b[0ma\u001b[0m\u001b[1;33m,\u001b[0m \u001b[1;33m**\u001b[0m\u001b[0mkw\u001b[0m\u001b[1;33m)\u001b[0m\u001b[1;33m:\u001b[0m\u001b[1;33m\u001b[0m\u001b[1;33m\u001b[0m\u001b[0m\n\u001b[0;32m    110\u001b[0m         \u001b[1;32mtry\u001b[0m\u001b[1;33m:\u001b[0m\u001b[1;33m\u001b[0m\u001b[1;33m\u001b[0m\u001b[0m\n\u001b[1;32m--> 111\u001b[1;33m             \u001b[1;32mreturn\u001b[0m \u001b[0mf\u001b[0m\u001b[1;33m(\u001b[0m\u001b[1;33m*\u001b[0m\u001b[0ma\u001b[0m\u001b[1;33m,\u001b[0m \u001b[1;33m**\u001b[0m\u001b[0mkw\u001b[0m\u001b[1;33m)\u001b[0m\u001b[1;33m\u001b[0m\u001b[1;33m\u001b[0m\u001b[0m\n\u001b[0m\u001b[0;32m    112\u001b[0m         \u001b[1;32mexcept\u001b[0m \u001b[0mpy4j\u001b[0m\u001b[1;33m.\u001b[0m\u001b[0mprotocol\u001b[0m\u001b[1;33m.\u001b[0m\u001b[0mPy4JJavaError\u001b[0m \u001b[1;32mas\u001b[0m \u001b[0me\u001b[0m\u001b[1;33m:\u001b[0m\u001b[1;33m\u001b[0m\u001b[1;33m\u001b[0m\u001b[0m\n\u001b[0;32m    113\u001b[0m             \u001b[0mconverted\u001b[0m \u001b[1;33m=\u001b[0m \u001b[0mconvert_exception\u001b[0m\u001b[1;33m(\u001b[0m\u001b[0me\u001b[0m\u001b[1;33m.\u001b[0m\u001b[0mjava_exception\u001b[0m\u001b[1;33m)\u001b[0m\u001b[1;33m\u001b[0m\u001b[1;33m\u001b[0m\u001b[0m\n",
      "\u001b[1;32m~\\Anaconda3\\lib\\site-packages\\py4j\\protocol.py\u001b[0m in \u001b[0;36mget_return_value\u001b[1;34m(answer, gateway_client, target_id, name)\u001b[0m\n\u001b[0;32m    326\u001b[0m                 raise Py4JJavaError(\n\u001b[0;32m    327\u001b[0m                     \u001b[1;34m\"An error occurred while calling {0}{1}{2}.\\n\"\u001b[0m\u001b[1;33m.\u001b[0m\u001b[1;33m\u001b[0m\u001b[1;33m\u001b[0m\u001b[0m\n\u001b[1;32m--> 328\u001b[1;33m                     format(target_id, \".\", name), value)\n\u001b[0m\u001b[0;32m    329\u001b[0m             \u001b[1;32melse\u001b[0m\u001b[1;33m:\u001b[0m\u001b[1;33m\u001b[0m\u001b[1;33m\u001b[0m\u001b[0m\n\u001b[0;32m    330\u001b[0m                 raise Py4JError(\n",
      "\u001b[1;31mPy4JJavaError\u001b[0m: An error occurred while calling o62.showString.\n: org.apache.spark.SparkException: Job aborted due to stage failure: Task 0 in stage 0.0 failed 1 times, most recent failure: Lost task 0.0 in stage 0.0 (TID 0) (POOJA executor driver): org.apache.spark.SparkException: Python worker failed to connect back.\r\n\tat org.apache.spark.api.python.PythonWorkerFactory.createSimpleWorker(PythonWorkerFactory.scala:182)\r\n\tat org.apache.spark.api.python.PythonWorkerFactory.create(PythonWorkerFactory.scala:107)\r\n\tat org.apache.spark.SparkEnv.createPythonWorker(SparkEnv.scala:119)\r\n\tat org.apache.spark.api.python.BasePythonRunner.compute(PythonRunner.scala:145)\r\n\tat org.apache.spark.api.python.PythonRDD.compute(PythonRDD.scala:65)\r\n\tat org.apache.spark.rdd.RDD.computeOrReadCheckpoint(RDD.scala:373)\r\n\tat org.apache.spark.rdd.RDD.iterator(RDD.scala:337)\r\n\tat org.apache.spark.rdd.MapPartitionsRDD.compute(MapPartitionsRDD.scala:52)\r\n\tat org.apache.spark.rdd.RDD.computeOrReadCheckpoint(RDD.scala:373)\r\n\tat org.apache.spark.rdd.RDD.iterator(RDD.scala:337)\r\n\tat org.apache.spark.rdd.MapPartitionsRDD.compute(MapPartitionsRDD.scala:52)\r\n\tat org.apache.spark.rdd.RDD.computeOrReadCheckpoint(RDD.scala:373)\r\n\tat org.apache.spark.rdd.RDD.iterator(RDD.scala:337)\r\n\tat org.apache.spark.rdd.MapPartitionsRDD.compute(MapPartitionsRDD.scala:52)\r\n\tat org.apache.spark.rdd.RDD.computeOrReadCheckpoint(RDD.scala:373)\r\n\tat org.apache.spark.rdd.RDD.iterator(RDD.scala:337)\r\n\tat org.apache.spark.rdd.MapPartitionsRDD.compute(MapPartitionsRDD.scala:52)\r\n\tat org.apache.spark.rdd.RDD.computeOrReadCheckpoint(RDD.scala:373)\r\n\tat org.apache.spark.rdd.RDD.iterator(RDD.scala:337)\r\n\tat org.apache.spark.rdd.MapPartitionsRDD.compute(MapPartitionsRDD.scala:52)\r\n\tat org.apache.spark.rdd.RDD.computeOrReadCheckpoint(RDD.scala:373)\r\n\tat org.apache.spark.rdd.RDD.iterator(RDD.scala:337)\r\n\tat org.apache.spark.scheduler.ResultTask.runTask(ResultTask.scala:90)\r\n\tat org.apache.spark.scheduler.Task.run(Task.scala:131)\r\n\tat org.apache.spark.executor.Executor$TaskRunner.$anonfun$run$3(Executor.scala:497)\r\n\tat org.apache.spark.util.Utils$.tryWithSafeFinally(Utils.scala:1439)\r\n\tat org.apache.spark.executor.Executor$TaskRunner.run(Executor.scala:500)\r\n\tat java.util.concurrent.ThreadPoolExecutor.runWorker(Unknown Source)\r\n\tat java.util.concurrent.ThreadPoolExecutor$Worker.run(Unknown Source)\r\n\tat java.lang.Thread.run(Unknown Source)\r\nCaused by: java.net.SocketTimeoutException: Accept timed out\r\n\tat java.net.DualStackPlainSocketImpl.waitForNewConnection(Native Method)\r\n\tat java.net.DualStackPlainSocketImpl.socketAccept(Unknown Source)\r\n\tat java.net.AbstractPlainSocketImpl.accept(Unknown Source)\r\n\tat java.net.PlainSocketImpl.accept(Unknown Source)\r\n\tat java.net.ServerSocket.implAccept(Unknown Source)\r\n\tat java.net.ServerSocket.accept(Unknown Source)\r\n\tat org.apache.spark.api.python.PythonWorkerFactory.createSimpleWorker(PythonWorkerFactory.scala:174)\r\n\t... 29 more\r\n\nDriver stacktrace:\r\n\tat org.apache.spark.scheduler.DAGScheduler.failJobAndIndependentStages(DAGScheduler.scala:2258)\r\n\tat org.apache.spark.scheduler.DAGScheduler.$anonfun$abortStage$2(DAGScheduler.scala:2207)\r\n\tat org.apache.spark.scheduler.DAGScheduler.$anonfun$abortStage$2$adapted(DAGScheduler.scala:2206)\r\n\tat scala.collection.mutable.ResizableArray.foreach(ResizableArray.scala:62)\r\n\tat scala.collection.mutable.ResizableArray.foreach$(ResizableArray.scala:55)\r\n\tat scala.collection.mutable.ArrayBuffer.foreach(ArrayBuffer.scala:49)\r\n\tat org.apache.spark.scheduler.DAGScheduler.abortStage(DAGScheduler.scala:2206)\r\n\tat org.apache.spark.scheduler.DAGScheduler.$anonfun$handleTaskSetFailed$1(DAGScheduler.scala:1079)\r\n\tat org.apache.spark.scheduler.DAGScheduler.$anonfun$handleTaskSetFailed$1$adapted(DAGScheduler.scala:1079)\r\n\tat scala.Option.foreach(Option.scala:407)\r\n\tat org.apache.spark.scheduler.DAGScheduler.handleTaskSetFailed(DAGScheduler.scala:1079)\r\n\tat org.apache.spark.scheduler.DAGSchedulerEventProcessLoop.doOnReceive(DAGScheduler.scala:2445)\r\n\tat org.apache.spark.scheduler.DAGSchedulerEventProcessLoop.onReceive(DAGScheduler.scala:2387)\r\n\tat org.apache.spark.scheduler.DAGSchedulerEventProcessLoop.onReceive(DAGScheduler.scala:2376)\r\n\tat org.apache.spark.util.EventLoop$$anon$1.run(EventLoop.scala:49)\r\n\tat org.apache.spark.scheduler.DAGScheduler.runJob(DAGScheduler.scala:868)\r\n\tat org.apache.spark.SparkContext.runJob(SparkContext.scala:2196)\r\n\tat org.apache.spark.SparkContext.runJob(SparkContext.scala:2217)\r\n\tat org.apache.spark.SparkContext.runJob(SparkContext.scala:2236)\r\n\tat org.apache.spark.sql.execution.SparkPlan.executeTake(SparkPlan.scala:472)\r\n\tat org.apache.spark.sql.execution.SparkPlan.executeTake(SparkPlan.scala:425)\r\n\tat org.apache.spark.sql.execution.CollectLimitExec.executeCollect(limit.scala:47)\r\n\tat org.apache.spark.sql.Dataset.collectFromPlan(Dataset.scala:3696)\r\n\tat org.apache.spark.sql.Dataset.$anonfun$head$1(Dataset.scala:2722)\r\n\tat org.apache.spark.sql.Dataset.$anonfun$withAction$1(Dataset.scala:3687)\r\n\tat org.apache.spark.sql.execution.SQLExecution$.$anonfun$withNewExecutionId$5(SQLExecution.scala:103)\r\n\tat org.apache.spark.sql.execution.SQLExecution$.withSQLConfPropagated(SQLExecution.scala:163)\r\n\tat org.apache.spark.sql.execution.SQLExecution$.$anonfun$withNewExecutionId$1(SQLExecution.scala:90)\r\n\tat org.apache.spark.sql.SparkSession.withActive(SparkSession.scala:775)\r\n\tat org.apache.spark.sql.execution.SQLExecution$.withNewExecutionId(SQLExecution.scala:64)\r\n\tat org.apache.spark.sql.Dataset.withAction(Dataset.scala:3685)\r\n\tat org.apache.spark.sql.Dataset.head(Dataset.scala:2722)\r\n\tat org.apache.spark.sql.Dataset.take(Dataset.scala:2929)\r\n\tat org.apache.spark.sql.Dataset.getRows(Dataset.scala:301)\r\n\tat org.apache.spark.sql.Dataset.showString(Dataset.scala:338)\r\n\tat sun.reflect.NativeMethodAccessorImpl.invoke0(Native Method)\r\n\tat sun.reflect.NativeMethodAccessorImpl.invoke(Unknown Source)\r\n\tat sun.reflect.DelegatingMethodAccessorImpl.invoke(Unknown Source)\r\n\tat java.lang.reflect.Method.invoke(Unknown Source)\r\n\tat py4j.reflection.MethodInvoker.invoke(MethodInvoker.java:244)\r\n\tat py4j.reflection.ReflectionEngine.invoke(ReflectionEngine.java:357)\r\n\tat py4j.Gateway.invoke(Gateway.java:282)\r\n\tat py4j.commands.AbstractCommand.invokeMethod(AbstractCommand.java:132)\r\n\tat py4j.commands.CallCommand.execute(CallCommand.java:79)\r\n\tat py4j.GatewayConnection.run(GatewayConnection.java:238)\r\n\tat java.lang.Thread.run(Unknown Source)\r\nCaused by: org.apache.spark.SparkException: Python worker failed to connect back.\r\n\tat org.apache.spark.api.python.PythonWorkerFactory.createSimpleWorker(PythonWorkerFactory.scala:182)\r\n\tat org.apache.spark.api.python.PythonWorkerFactory.create(PythonWorkerFactory.scala:107)\r\n\tat org.apache.spark.SparkEnv.createPythonWorker(SparkEnv.scala:119)\r\n\tat org.apache.spark.api.python.BasePythonRunner.compute(PythonRunner.scala:145)\r\n\tat org.apache.spark.api.python.PythonRDD.compute(PythonRDD.scala:65)\r\n\tat org.apache.spark.rdd.RDD.computeOrReadCheckpoint(RDD.scala:373)\r\n\tat org.apache.spark.rdd.RDD.iterator(RDD.scala:337)\r\n\tat org.apache.spark.rdd.MapPartitionsRDD.compute(MapPartitionsRDD.scala:52)\r\n\tat org.apache.spark.rdd.RDD.computeOrReadCheckpoint(RDD.scala:373)\r\n\tat org.apache.spark.rdd.RDD.iterator(RDD.scala:337)\r\n\tat org.apache.spark.rdd.MapPartitionsRDD.compute(MapPartitionsRDD.scala:52)\r\n\tat org.apache.spark.rdd.RDD.computeOrReadCheckpoint(RDD.scala:373)\r\n\tat org.apache.spark.rdd.RDD.iterator(RDD.scala:337)\r\n\tat org.apache.spark.rdd.MapPartitionsRDD.compute(MapPartitionsRDD.scala:52)\r\n\tat org.apache.spark.rdd.RDD.computeOrReadCheckpoint(RDD.scala:373)\r\n\tat org.apache.spark.rdd.RDD.iterator(RDD.scala:337)\r\n\tat org.apache.spark.rdd.MapPartitionsRDD.compute(MapPartitionsRDD.scala:52)\r\n\tat org.apache.spark.rdd.RDD.computeOrReadCheckpoint(RDD.scala:373)\r\n\tat org.apache.spark.rdd.RDD.iterator(RDD.scala:337)\r\n\tat org.apache.spark.rdd.MapPartitionsRDD.compute(MapPartitionsRDD.scala:52)\r\n\tat org.apache.spark.rdd.RDD.computeOrReadCheckpoint(RDD.scala:373)\r\n\tat org.apache.spark.rdd.RDD.iterator(RDD.scala:337)\r\n\tat org.apache.spark.scheduler.ResultTask.runTask(ResultTask.scala:90)\r\n\tat org.apache.spark.scheduler.Task.run(Task.scala:131)\r\n\tat org.apache.spark.executor.Executor$TaskRunner.$anonfun$run$3(Executor.scala:497)\r\n\tat org.apache.spark.util.Utils$.tryWithSafeFinally(Utils.scala:1439)\r\n\tat org.apache.spark.executor.Executor$TaskRunner.run(Executor.scala:500)\r\n\tat java.util.concurrent.ThreadPoolExecutor.runWorker(Unknown Source)\r\n\tat java.util.concurrent.ThreadPoolExecutor$Worker.run(Unknown Source)\r\n\t... 1 more\r\nCaused by: java.net.SocketTimeoutException: Accept timed out\r\n\tat java.net.DualStackPlainSocketImpl.waitForNewConnection(Native Method)\r\n\tat java.net.DualStackPlainSocketImpl.socketAccept(Unknown Source)\r\n\tat java.net.AbstractPlainSocketImpl.accept(Unknown Source)\r\n\tat java.net.PlainSocketImpl.accept(Unknown Source)\r\n\tat java.net.ServerSocket.implAccept(Unknown Source)\r\n\tat java.net.ServerSocket.accept(Unknown Source)\r\n\tat org.apache.spark.api.python.PythonWorkerFactory.createSimpleWorker(PythonWorkerFactory.scala:174)\r\n\t... 29 more\r\n"
     ]
    }
   ],
   "source": [
    "from pyspark.sql.types import StructType,StructField, StringType, IntegerType\n",
    "schema = StructType([ \\\n",
    "    StructField(\"screen_name\",StringType(),True), \\\n",
    "    StructField(\"followers_count\", IntegerType(), True), \\\n",
    "    StructField(\"name\",StringType(),True), \\\n",
    "    StructField(\"verified\", StringType(), True) \\\n",
    "  ])\n",
    " \n",
    "df = spark.createDataFrame(data=users_details,schema=schema)\n",
    "df.printSchema()\n",
    "#df.show(truncate=False)\n",
    "df.where(df.verified == \"true\").show()"
   ]
  },
  {
   "cell_type": "code",
   "execution_count": null,
   "metadata": {},
   "outputs": [],
   "source": []
  },
  {
   "cell_type": "code",
   "execution_count": null,
   "metadata": {},
   "outputs": [],
   "source": []
  }
 ],
 "metadata": {
  "kernelspec": {
   "display_name": "Python 3",
   "language": "python",
   "name": "python3"
  },
  "language_info": {
   "codemirror_mode": {
    "name": "ipython",
    "version": 3
   },
   "file_extension": ".py",
   "mimetype": "text/x-python",
   "name": "python",
   "nbconvert_exporter": "python",
   "pygments_lexer": "ipython3",
   "version": "3.7.1"
  }
 },
 "nbformat": 4,
 "nbformat_minor": 5
}
