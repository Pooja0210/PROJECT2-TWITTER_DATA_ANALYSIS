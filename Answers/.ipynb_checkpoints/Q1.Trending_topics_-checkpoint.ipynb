{
 "cells": [
  {
   "cell_type": "code",
   "execution_count": 1,
   "metadata": {},
   "outputs": [],
   "source": [
    "import tweepy as tw\n",
    "import os\n",
    "import json\n",
    "import sys"
   ]
  },
  {
   "cell_type": "code",
   "execution_count": 2,
   "metadata": {},
   "outputs": [],
   "source": [
    "# API Keys and Tokens\n",
    "consumer_key = 'fRpq6Rk6LeDjJcq77AzR9vpFt'\n",
    "consumer_secret = 'GeTDjPUQytrlKBx07KDqAKLTyRa7dfwP5JRqqKphmFujgx9Zx3'\n",
    "access_token = '3105826550-F4YMOB6ZljoceFpW2WTJctwxAFH757cEy6QwNXD'\n",
    "access_secret = 'JJaTqeVLPqma5OtYsDwjTldEP8S8qqiRz4VcTmXGf1dwZ'\n"
   ]
  },
  {
   "cell_type": "code",
   "execution_count": 3,
   "metadata": {},
   "outputs": [],
   "source": [
    "# Authorization and Authentication\n",
    "auth = tw.OAuthHandler(consumer_key, consumer_secret)\n",
    "auth.set_access_token(access_token, access_secret)\n",
    "api = tw.API(auth)"
   ]
  },
  {
   "cell_type": "code",
   "execution_count": 4,
   "metadata": {},
   "outputs": [],
   "source": [
    "# WOEID of delhi, india\n",
    "woeid = 20070458"
   ]
  },
  {
   "cell_type": "code",
   "execution_count": 5,
   "metadata": {},
   "outputs": [],
   "source": [
    "# fetching the trends\n",
    "Trends = api.trends_place(id = woeid)"
   ]
  },
  {
   "cell_type": "code",
   "execution_count": 6,
   "metadata": {},
   "outputs": [
    {
     "name": "stdout",
     "output_type": "stream",
     "text": [
      "{'trends': [{'name': '#JaiHind', 'url': 'http://twitter.com/search?q=%23JaiHind', 'promoted_content': None, 'query': '%23JaiHind', 'tweet_volume': None}, {'name': '#PartitionHorrorRemembranceDay', 'url': 'http://twitter.com/search?q=%23PartitionHorrorRemembranceDay', 'promoted_content': None, 'query': '%23PartitionHorrorRemembranceDay', 'tweet_volume': None}, {'name': 'SHAME ON YOU TEAM SAATH', 'url': 'http://twitter.com/search?q=%22SHAME+ON+YOU+TEAM+SAATH%22', 'promoted_content': None, 'query': '%22SHAME+ON+YOU+TEAM+SAATH%22', 'tweet_volume': 105789}, {'name': '#MUNLEE', 'url': 'http://twitter.com/search?q=%23MUNLEE', 'promoted_content': None, 'query': '%23MUNLEE', 'tweet_volume': 194814}, {'name': 'Pogba', 'url': 'http://twitter.com/search?q=Pogba', 'promoted_content': None, 'query': 'Pogba', 'tweet_volume': 348487}, {'name': 'SSR Name Rules N Bolly Dying', 'url': 'http://twitter.com/search?q=%22SSR+Name+Rules+N+Bolly+Dying%22', 'promoted_content': None, 'query': '%22SSR+Name+Rules+N+Bolly+Dying%22', 'tweet_volume': 10693}, {'name': '#CHECRY', 'url': 'http://twitter.com/search?q=%23CHECRY', 'promoted_content': None, 'query': '%23CHECRY', 'tweet_volume': 40496}, {'name': '#IndependenceDay', 'url': 'http://twitter.com/search?q=%23IndependenceDay', 'promoted_content': None, 'query': '%23IndependenceDay', 'tweet_volume': 110270}, {'name': '18YRS OF CLASSIC TERE NAAM', 'url': 'http://twitter.com/search?q=%2218YRS+OF+CLASSIC+TERE+NAAM%22', 'promoted_content': None, 'query': '%2218YRS+OF+CLASSIC+TERE+NAAM%22', 'tweet_volume': 16057}, {'name': 'Chalobah', 'url': 'http://twitter.com/search?q=Chalobah', 'promoted_content': None, 'query': 'Chalobah', 'tweet_volume': 51027}, {'name': 'Joe Root', 'url': 'http://twitter.com/search?q=%22Joe+Root%22', 'promoted_content': None, 'query': '%22Joe+Root%22', 'tweet_volume': 11619}, {'name': 'पूर्व संध्या', 'url': 'http://twitter.com/search?q=%22%E0%A4%AA%E0%A5%82%E0%A4%B0%E0%A5%8D%E0%A4%B5+%E0%A4%B8%E0%A4%82%E0%A4%A7%E0%A5%8D%E0%A4%AF%E0%A4%BE%22', 'promoted_content': None, 'query': '%22%E0%A4%AA%E0%A5%82%E0%A4%B0%E0%A5%8D%E0%A4%B5+%E0%A4%B8%E0%A4%82%E0%A4%A7%E0%A5%8D%E0%A4%AF%E0%A4%BE%22', 'tweet_volume': None}, {'name': 'Ishant', 'url': 'http://twitter.com/search?q=Ishant', 'promoted_content': None, 'query': 'Ishant', 'tweet_volume': None}, {'name': 'Alonso', 'url': 'http://twitter.com/search?q=Alonso', 'promoted_content': None, 'query': 'Alonso', 'tweet_volume': 40406}, {'name': 'Pulisic', 'url': 'http://twitter.com/search?q=Pulisic', 'promoted_content': None, 'query': 'Pulisic', 'tweet_volume': 24641}, {'name': 'Bruno Fernandes', 'url': 'http://twitter.com/search?q=%22Bruno+Fernandes%22', 'promoted_content': None, 'query': '%22Bruno+Fernandes%22', 'tweet_volume': 109419}, {'name': 'WAITING FOR ACTOR JIN', 'url': 'http://twitter.com/search?q=%22WAITING+FOR+ACTOR+JIN%22', 'promoted_content': None, 'query': '%22WAITING+FOR+ACTOR+JIN%22', 'tweet_volume': 10401}, {'name': 'Leeds', 'url': 'http://twitter.com/search?q=Leeds', 'promoted_content': None, 'query': 'Leeds', 'tweet_volume': 193210}, {'name': 'Sancho', 'url': 'http://twitter.com/search?q=Sancho', 'promoted_content': None, 'query': 'Sancho', 'tweet_volume': 92513}, {'name': 'Ashwin', 'url': 'http://twitter.com/search?q=Ashwin', 'promoted_content': None, 'query': 'Ashwin', 'tweet_volume': None}, {'name': 'Kounde', 'url': 'http://twitter.com/search?q=Kounde', 'promoted_content': None, 'query': 'Kounde', 'tweet_volume': None}, {'name': 'FIGHTorESCAPE D-2', 'url': 'http://twitter.com/search?q=%22FIGHTorESCAPE+D-2%22', 'promoted_content': None, 'query': '%22FIGHTorESCAPE+D-2%22', 'tweet_volume': 113448}, {'name': 'Werner', 'url': 'http://twitter.com/search?q=Werner', 'promoted_content': None, 'query': 'Werner', 'tweet_volume': 20262}, {'name': 'Old Trafford', 'url': 'http://twitter.com/search?q=%22Old+Trafford%22', 'promoted_content': None, 'query': '%22Old+Trafford%22', 'tweet_volume': 93603}, {'name': 'High Tea', 'url': 'http://twitter.com/search?q=%22High+Tea%22', 'promoted_content': None, 'query': '%22High+Tea%22', 'tweet_volume': None}, {'name': '14 Months Of Injustice 2 SSR', 'url': 'http://twitter.com/search?q=%2214+Months+Of+Injustice+2+SSR%22', 'promoted_content': None, 'query': '%2214+Months+Of+Injustice+2+SSR%22', 'tweet_volume': 157562}, {'name': 'Buttler', 'url': 'http://twitter.com/search?q=Buttler', 'promoted_content': None, 'query': 'Buttler', 'tweet_volume': None}, {'name': 'Soojin', 'url': 'http://twitter.com/search?q=Soojin', 'promoted_content': None, 'query': 'Soojin', 'tweet_volume': 590411}, {'name': 'Milner', 'url': 'http://twitter.com/search?q=Milner', 'promoted_content': None, 'query': 'Milner', 'tweet_volume': None}, {'name': 'Greenwood', 'url': 'http://twitter.com/search?q=Greenwood', 'promoted_content': None, 'query': 'Greenwood', 'tweet_volume': 60361}, {'name': 'Bairstow', 'url': 'http://twitter.com/search?q=Bairstow', 'promoted_content': None, 'query': 'Bairstow', 'tweet_volume': None}, {'name': 'Varane', 'url': 'http://twitter.com/search?q=Varane', 'promoted_content': None, 'query': 'Varane', 'tweet_volume': 153215}, {'name': 'NOT FUNNY', 'url': 'http://twitter.com/search?q=%22NOT+FUNNY%22', 'promoted_content': None, 'query': '%22NOT+FUNNY%22', 'tweet_volume': 57551}, {'name': 'Bruno hattrick', 'url': 'http://twitter.com/search?q=%22Bruno+hattrick%22', 'promoted_content': None, 'query': '%22Bruno+hattrick%22', 'tweet_volume': 10667}, {'name': 'Nehru', 'url': 'http://twitter.com/search?q=Nehru', 'promoted_content': None, 'query': 'Nehru', 'tweet_volume': 23669}, {'name': 'ONE MAN ARMY PRATIK', 'url': 'http://twitter.com/search?q=%22ONE+MAN+ARMY+PRATIK%22', 'promoted_content': None, 'query': '%22ONE+MAN+ARMY+PRATIK%22', 'tweet_volume': 95530}, {'name': 'Crystal Palace', 'url': 'http://twitter.com/search?q=%22Crystal+Palace%22', 'promoted_content': None, 'query': '%22Crystal+Palace%22', 'tweet_volume': 33765}, {'name': 'Ayling', 'url': 'http://twitter.com/search?q=Ayling', 'promoted_content': None, 'query': 'Ayling', 'tweet_volume': 16078}, {'name': 'Moeen Ali', 'url': 'http://twitter.com/search?q=%22Moeen+Ali%22', 'promoted_content': None, 'query': '%22Moeen+Ali%22', 'tweet_volume': None}, {'name': 'Jinnah', 'url': 'http://twitter.com/search?q=Jinnah', 'promoted_content': None, 'query': 'Jinnah', 'tweet_volume': 40080}, {'name': 'Hat-trick', 'url': 'http://twitter.com/search?q=Hat-trick', 'promoted_content': None, 'query': 'Hat-trick', 'tweet_volume': 65906}, {'name': 'Holocaust', 'url': 'http://twitter.com/search?q=Holocaust', 'promoted_content': None, 'query': 'Holocaust', 'tweet_volume': 18246}, {'name': 'Tricolour', 'url': 'http://twitter.com/search?q=Tricolour', 'promoted_content': None, 'query': 'Tricolour', 'tweet_volume': 12551}, {'name': 'Lindelof', 'url': 'http://twitter.com/search?q=Lindelof', 'promoted_content': None, 'query': 'Lindelof', 'tweet_volume': 13573}, {'name': 'seungkwan', 'url': 'http://twitter.com/search?q=seungkwan', 'promoted_content': None, 'query': 'seungkwan', 'tweet_volume': 72745}, {'name': 'Bielsa', 'url': 'http://twitter.com/search?q=Bielsa', 'promoted_content': None, 'query': 'Bielsa', 'tweet_volume': 16329}, {'name': 'NAYA GHAR MUBARAK JASMIN', 'url': 'http://twitter.com/search?q=%22NAYA+GHAR+MUBARAK+JASMIN%22', 'promoted_content': None, 'query': '%22NAYA+GHAR+MUBARAK+JASMIN%22', 'tweet_volume': 29439}, {'name': 'Muslim League', 'url': 'http://twitter.com/search?q=%22Muslim+League%22', 'promoted_content': None, 'query': '%22Muslim+League%22', 'tweet_volume': 13955}, {'name': '#7YearsOfAnjaanSupremacy', 'url': 'http://twitter.com/search?q=%237YearsOfAnjaanSupremacy', 'promoted_content': None, 'query': '%237YearsOfAnjaanSupremacy', 'tweet_volume': 361772}, {'name': '#INDvENG', 'url': 'http://twitter.com/search?q=%23INDvENG', 'promoted_content': None, 'query': '%23INDvENG', 'tweet_volume': None}], 'as_of': '2021-08-14T16:06:56Z', 'created_at': '2021-08-13T05:41:59Z', 'locations': [{'name': 'Delhi', 'woeid': 20070458}]}\n"
     ]
    }
   ],
   "source": [
    "for value in Trends:\n",
    "     print(value)\n",
    "        #for trend in value['trends']:\n",
    "      #  print(trend['name'], trend['tweet_volume'])"
   ]
  },
  {
   "cell_type": "code",
   "execution_count": 13,
   "metadata": {},
   "outputs": [
    {
     "data": {
      "text/html": [
       "\n",
       "            <div>\n",
       "                <p><b>SparkSession - hive</b></p>\n",
       "                \n",
       "        <div>\n",
       "            <p><b>SparkContext</b></p>\n",
       "\n",
       "            <p><a href=\"http://DESKTOP-J364ET4:4045\">Spark UI</a></p>\n",
       "\n",
       "            <dl>\n",
       "              <dt>Version</dt>\n",
       "                <dd><code>v3.1.2</code></dd>\n",
       "              <dt>Master</dt>\n",
       "                <dd><code>local[*]</code></dd>\n",
       "              <dt>AppName</dt>\n",
       "                <dd><code>PySparkShell</code></dd>\n",
       "            </dl>\n",
       "        </div>\n",
       "        \n",
       "            </div>\n",
       "        "
      ],
      "text/plain": [
       "<pyspark.sql.session.SparkSession at 0x1dbcef5cee0>"
      ]
     },
     "execution_count": 13,
     "metadata": {},
     "output_type": "execute_result"
    }
   ],
   "source": [
    "import pyspark\n",
    "from pyspark import SparkContext\n",
    "sc = SparkContext.getOrCreate();\n",
    "import findspark\n",
    "findspark.init()\n",
    "from pyspark.sql import SparkSession\n",
    "spark = SparkSession.builder.master(\"local[*]\").getOrCreate()\n",
    "spark.conf.set(\"spark.sql.repl.eagerEval.enabled\", True) # Property used to format output tables better\n",
    "spark\n"
   ]
  },
  {
   "cell_type": "code",
   "execution_count": 11,
   "metadata": {},
   "outputs": [],
   "source": [
    "#sc.stop()"
   ]
  },
  {
   "cell_type": "code",
   "execution_count": 14,
   "metadata": {},
   "outputs": [],
   "source": [
    "for value in Trends:\n",
    "    rdd = spark.sparkContext.parallelize(value['trends'])\n",
    "Trend_with_hashtag=rdd.toDF(sampleRatio=0.01)"
   ]
  },
  {
   "cell_type": "code",
   "execution_count": 15,
   "metadata": {},
   "outputs": [
    {
     "name": "stdout",
     "output_type": "stream",
     "text": [
      "+--------------------+------------+\n",
      "|                name|tweet_volume|\n",
      "+--------------------+------------+\n",
      "|            #JaiHind|        null|\n",
      "|#PartitionHorrorR...|        null|\n",
      "|SHAME ON YOU TEAM...|        null|\n",
      "|             #MUNLEE|        null|\n",
      "|               Pogba|        null|\n",
      "|SSR Name Rules N ...|        null|\n",
      "|             #CHECRY|        null|\n",
      "|    #IndependenceDay|        null|\n",
      "|18YRS OF CLASSIC ...|        null|\n",
      "|            Chalobah|        null|\n",
      "|            Joe Root|        null|\n",
      "|        पूर्व संध्या|        null|\n",
      "|              Ishant|        null|\n",
      "|              Alonso|        null|\n",
      "|             Pulisic|        null|\n",
      "|     Bruno Fernandes|        null|\n",
      "|WAITING FOR ACTOR...|        null|\n",
      "|               Leeds|        null|\n",
      "|              Sancho|        null|\n",
      "|              Ashwin|        null|\n",
      "+--------------------+------------+\n",
      "only showing top 20 rows\n",
      "\n"
     ]
    }
   ],
   "source": [
    "Trend_with_hashtag.createOrReplaceTempView(\"Trend\")\n",
    "TD=spark.sql(\"select name, tweet_volume from Trend\")\n",
    "TD.show()"
   ]
  },
  {
   "cell_type": "code",
   "execution_count": 16,
   "metadata": {},
   "outputs": [
    {
     "name": "stdout",
     "output_type": "stream",
     "text": [
      "{'trends': [{'name': 'SHAME ON YOU TEAM SAATH', 'url': 'http://twitter.com/search?q=%22SHAME+ON+YOU+TEAM+SAATH%22', 'promoted_content': None, 'query': '%22SHAME+ON+YOU+TEAM+SAATH%22', 'tweet_volume': 105893}, {'name': 'Pogba', 'url': 'http://twitter.com/search?q=Pogba', 'promoted_content': None, 'query': 'Pogba', 'tweet_volume': 348679}, {'name': 'SSR Name Rules N Bolly Dying', 'url': 'http://twitter.com/search?q=%22SSR+Name+Rules+N+Bolly+Dying%22', 'promoted_content': None, 'query': '%22SSR+Name+Rules+N+Bolly+Dying%22', 'tweet_volume': 10919}, {'name': '18YRS OF CLASSIC TERE NAAM', 'url': 'http://twitter.com/search?q=%2218YRS+OF+CLASSIC+TERE+NAAM%22', 'promoted_content': None, 'query': '%2218YRS+OF+CLASSIC+TERE+NAAM%22', 'tweet_volume': 16538}, {'name': 'Chalobah', 'url': 'http://twitter.com/search?q=Chalobah', 'promoted_content': None, 'query': 'Chalobah', 'tweet_volume': 51027}, {'name': 'Joe Root', 'url': 'http://twitter.com/search?q=%22Joe+Root%22', 'promoted_content': None, 'query': '%22Joe+Root%22', 'tweet_volume': 11644}, {'name': 'पूर्व संध्या', 'url': 'http://twitter.com/search?q=%22%E0%A4%AA%E0%A5%82%E0%A4%B0%E0%A5%8D%E0%A4%B5+%E0%A4%B8%E0%A4%82%E0%A4%A7%E0%A5%8D%E0%A4%AF%E0%A4%BE%22', 'promoted_content': None, 'query': '%22%E0%A4%AA%E0%A5%82%E0%A4%B0%E0%A5%8D%E0%A4%B5+%E0%A4%B8%E0%A4%82%E0%A4%A7%E0%A5%8D%E0%A4%AF%E0%A4%BE%22', 'tweet_volume': None}, {'name': 'Ishant', 'url': 'http://twitter.com/search?q=Ishant', 'promoted_content': None, 'query': 'Ishant', 'tweet_volume': None}, {'name': 'Alonso', 'url': 'http://twitter.com/search?q=Alonso', 'promoted_content': None, 'query': 'Alonso', 'tweet_volume': 40585}, {'name': 'Pulisic', 'url': 'http://twitter.com/search?q=Pulisic', 'promoted_content': None, 'query': 'Pulisic', 'tweet_volume': 24718}, {'name': 'Bruno Fernandes', 'url': 'http://twitter.com/search?q=%22Bruno+Fernandes%22', 'promoted_content': None, 'query': '%22Bruno+Fernandes%22', 'tweet_volume': 109518}, {'name': 'WAITING FOR ACTOR JIN', 'url': 'http://twitter.com/search?q=%22WAITING+FOR+ACTOR+JIN%22', 'promoted_content': None, 'query': '%22WAITING+FOR+ACTOR+JIN%22', 'tweet_volume': 10425}, {'name': 'Leeds', 'url': 'http://twitter.com/search?q=Leeds', 'promoted_content': None, 'query': 'Leeds', 'tweet_volume': 193359}, {'name': 'Ashwin', 'url': 'http://twitter.com/search?q=Ashwin', 'promoted_content': None, 'query': 'Ashwin', 'tweet_volume': None}, {'name': 'Sancho', 'url': 'http://twitter.com/search?q=Sancho', 'promoted_content': None, 'query': 'Sancho', 'tweet_volume': 92580}, {'name': 'Kounde', 'url': 'http://twitter.com/search?q=Kounde', 'promoted_content': None, 'query': 'Kounde', 'tweet_volume': None}, {'name': 'FIGHTorESCAPE D-2', 'url': 'http://twitter.com/search?q=%22FIGHTorESCAPE+D-2%22', 'promoted_content': None, 'query': '%22FIGHTorESCAPE+D-2%22', 'tweet_volume': 113483}, {'name': 'Werner', 'url': 'http://twitter.com/search?q=Werner', 'promoted_content': None, 'query': 'Werner', 'tweet_volume': 20262}, {'name': 'Old Trafford', 'url': 'http://twitter.com/search?q=%22Old+Trafford%22', 'promoted_content': None, 'query': '%22Old+Trafford%22', 'tweet_volume': 93679}, {'name': 'High Tea', 'url': 'http://twitter.com/search?q=%22High+Tea%22', 'promoted_content': None, 'query': '%22High+Tea%22', 'tweet_volume': None}, {'name': '14 Months Of Injustice 2 SSR', 'url': 'http://twitter.com/search?q=%2214+Months+Of+Injustice+2+SSR%22', 'promoted_content': None, 'query': '%2214+Months+Of+Injustice+2+SSR%22', 'tweet_volume': 157562}, {'name': 'Buttler', 'url': 'http://twitter.com/search?q=Buttler', 'promoted_content': None, 'query': 'Buttler', 'tweet_volume': None}, {'name': 'Soojin', 'url': 'http://twitter.com/search?q=Soojin', 'promoted_content': None, 'query': 'Soojin', 'tweet_volume': 591485}, {'name': 'Milner', 'url': 'http://twitter.com/search?q=Milner', 'promoted_content': None, 'query': 'Milner', 'tweet_volume': None}, {'name': 'Greenwood', 'url': 'http://twitter.com/search?q=Greenwood', 'promoted_content': None, 'query': 'Greenwood', 'tweet_volume': 60395}, {'name': 'Bairstow', 'url': 'http://twitter.com/search?q=Bairstow', 'promoted_content': None, 'query': 'Bairstow', 'tweet_volume': None}, {'name': 'Varane', 'url': 'http://twitter.com/search?q=Varane', 'promoted_content': None, 'query': 'Varane', 'tweet_volume': 153323}, {'name': 'NOT FUNNY', 'url': 'http://twitter.com/search?q=%22NOT+FUNNY%22', 'promoted_content': None, 'query': '%22NOT+FUNNY%22', 'tweet_volume': 57585}, {'name': 'Bruno hattrick', 'url': 'http://twitter.com/search?q=%22Bruno+hattrick%22', 'promoted_content': None, 'query': '%22Bruno+hattrick%22', 'tweet_volume': 10672}, {'name': 'Nehru', 'url': 'http://twitter.com/search?q=Nehru', 'promoted_content': None, 'query': 'Nehru', 'tweet_volume': 23696}, {'name': 'ONE MAN ARMY PRATIK', 'url': 'http://twitter.com/search?q=%22ONE+MAN+ARMY+PRATIK%22', 'promoted_content': None, 'query': '%22ONE+MAN+ARMY+PRATIK%22', 'tweet_volume': 95653}, {'name': 'Crystal Palace', 'url': 'http://twitter.com/search?q=%22Crystal+Palace%22', 'promoted_content': None, 'query': '%22Crystal+Palace%22', 'tweet_volume': 33787}, {'name': 'Ayling', 'url': 'http://twitter.com/search?q=Ayling', 'promoted_content': None, 'query': 'Ayling', 'tweet_volume': 16085}, {'name': 'Moeen Ali', 'url': 'http://twitter.com/search?q=%22Moeen+Ali%22', 'promoted_content': None, 'query': '%22Moeen+Ali%22', 'tweet_volume': None}, {'name': 'Jinnah', 'url': 'http://twitter.com/search?q=Jinnah', 'promoted_content': None, 'query': 'Jinnah', 'tweet_volume': 40152}, {'name': 'Hat-trick', 'url': 'http://twitter.com/search?q=Hat-trick', 'promoted_content': None, 'query': 'Hat-trick', 'tweet_volume': 65954}, {'name': 'Holocaust', 'url': 'http://twitter.com/search?q=Holocaust', 'promoted_content': None, 'query': 'Holocaust', 'tweet_volume': 18284}, {'name': 'Tricolour', 'url': 'http://twitter.com/search?q=Tricolour', 'promoted_content': None, 'query': 'Tricolour', 'tweet_volume': 12583}, {'name': 'Lindelof', 'url': 'http://twitter.com/search?q=Lindelof', 'promoted_content': None, 'query': 'Lindelof', 'tweet_volume': 13583}, {'name': 'seungkwan', 'url': 'http://twitter.com/search?q=seungkwan', 'promoted_content': None, 'query': 'seungkwan', 'tweet_volume': 72874}, {'name': 'Bielsa', 'url': 'http://twitter.com/search?q=Bielsa', 'promoted_content': None, 'query': 'Bielsa', 'tweet_volume': 16347}, {'name': 'NAYA GHAR MUBARAK JASMIN', 'url': 'http://twitter.com/search?q=%22NAYA+GHAR+MUBARAK+JASMIN%22', 'promoted_content': None, 'query': '%22NAYA+GHAR+MUBARAK+JASMIN%22', 'tweet_volume': 29439}, {'name': 'Muslim League', 'url': 'http://twitter.com/search?q=%22Muslim+League%22', 'promoted_content': None, 'query': '%22Muslim+League%22', 'tweet_volume': 13955}], 'as_of': '2021-08-14T16:07:53Z', 'created_at': '2021-08-13T15:46:32Z', 'locations': [{'name': 'Delhi', 'woeid': 20070458}]}\n"
     ]
    }
   ],
   "source": [
    "trends = api.trends_place(id = woeid,exclude = \"hashtags\")\n",
    "for value in trends:\n",
    "    print(value)"
   ]
  },
  {
   "cell_type": "code",
   "execution_count": 17,
   "metadata": {},
   "outputs": [],
   "source": [
    "for value in trends:\n",
    "    RDD = spark.sparkContext.parallelize(value['trends'])\n",
    "trend_without_hashtag=RDD.toDF(sampleRatio=0.01)"
   ]
  },
  {
   "cell_type": "code",
   "execution_count": 18,
   "metadata": {},
   "outputs": [
    {
     "name": "stdout",
     "output_type": "stream",
     "text": [
      "+--------------------+------------+\n",
      "|                name|tweet_volume|\n",
      "+--------------------+------------+\n",
      "|SHAME ON YOU TEAM...|      105893|\n",
      "|               Pogba|      348679|\n",
      "|SSR Name Rules N ...|       10919|\n",
      "|18YRS OF CLASSIC ...|       16538|\n",
      "|            Chalobah|       51027|\n",
      "|            Joe Root|       11644|\n",
      "|        पूर्व संध्या|        null|\n",
      "|              Ishant|        null|\n",
      "|              Alonso|       40585|\n",
      "|             Pulisic|       24718|\n",
      "|     Bruno Fernandes|      109518|\n",
      "|WAITING FOR ACTOR...|       10425|\n",
      "|               Leeds|      193359|\n",
      "|              Ashwin|        null|\n",
      "|              Sancho|       92580|\n",
      "|              Kounde|        null|\n",
      "|   FIGHTorESCAPE D-2|      113483|\n",
      "|              Werner|       20262|\n",
      "|        Old Trafford|       93679|\n",
      "|            High Tea|        null|\n",
      "+--------------------+------------+\n",
      "only showing top 20 rows\n",
      "\n"
     ]
    }
   ],
   "source": [
    "trend_without_hashtag.createOrReplaceTempView(\"trend\")\n",
    "td=spark.sql(\"select name, tweet_volume from trend\")\n",
    "td.show()"
   ]
  },
  {
   "cell_type": "code",
   "execution_count": null,
   "metadata": {},
   "outputs": [],
   "source": []
  }
 ],
 "metadata": {
  "kernelspec": {
   "display_name": "Python 3",
   "language": "python",
   "name": "python3"
  },
  "language_info": {
   "codemirror_mode": {
    "name": "ipython",
    "version": 3
   },
   "file_extension": ".py",
   "mimetype": "text/x-python",
   "name": "python",
   "nbconvert_exporter": "python",
   "pygments_lexer": "ipython3",
   "version": "3.7.1"
  }
 },
 "nbformat": 4,
 "nbformat_minor": 2
}
