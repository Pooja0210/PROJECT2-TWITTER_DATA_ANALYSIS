{
 "cells": [
  {
   "cell_type": "code",
   "execution_count": 33,
   "metadata": {},
   "outputs": [
    {
     "data": {
      "text/html": [
       "\n",
       "            <div>\n",
       "                <p><b>SparkSession - in-memory</b></p>\n",
       "                \n",
       "        <div>\n",
       "            <p><b>SparkContext</b></p>\n",
       "\n",
       "            <p><a href=\"http://DESKTOP-E0ERQBN:4045\">Spark UI</a></p>\n",
       "\n",
       "            <dl>\n",
       "              <dt>Version</dt>\n",
       "                <dd><code>v3.1.2</code></dd>\n",
       "              <dt>Master</dt>\n",
       "                <dd><code>local[*]</code></dd>\n",
       "              <dt>AppName</dt>\n",
       "                <dd><code>pyspark-shell</code></dd>\n",
       "            </dl>\n",
       "        </div>\n",
       "        \n",
       "            </div>\n",
       "        "
      ],
      "text/plain": [
       "<pyspark.sql.session.SparkSession at 0x1eb8982f3d0>"
      ]
     },
     "execution_count": 33,
     "metadata": {},
     "output_type": "execute_result"
    }
   ],
   "source": [
    "import pyspark\n",
    "import pyspark.sql\n",
    "from pyspark import SparkContext\n",
    "sc = SparkContext.getOrCreate();\n",
    "import findspark\n",
    "findspark.init()\n",
    "from pyspark.sql import SparkSession\n",
    "spark = SparkSession.builder.master(\"local[*]\").getOrCreate()\n",
    "spark.conf.set(\"spark.sql.repl.eagerEval.enabled\", True) # Property used to format output tables better\n",
    "spark"
   ]
  },
  {
   "cell_type": "code",
   "execution_count": 55,
   "metadata": {},
   "outputs": [],
   "source": [
    "q_5=spark.read.format(\"com.databricks.spark.csv\").options(inferSchema=\"true\",header='true',escape='\"').load(\"gender-classifier-DFE-791531.csv\")\n"
   ]
  },
  {
   "cell_type": "code",
   "execution_count": 56,
   "metadata": {},
   "outputs": [
    {
     "name": "stdout",
     "output_type": "stream",
     "text": [
      "+---------+---------+---------+------------------+------------------+------------------+-----------------+----------+---------------------+----------------+--------------------+----------+-----------+----------+---------------+---------------+--------------------+-------------+-------------+--------------------+-----------+--------------+--------+--------------------+--------------------+\n",
      "|_unit_id0|_unit_id1|_unit_id2|_trusted_judgments|_last_judgment_at4|_last_judgment_at5|gender:confidence|profile_yn|profile_yn:confidence|         created|         description|fav_number|gender_gold|link_color|           name|profile_yn_gold|        profileimage|retweet_count|sidebar_color|                text|tweet_count| tweet_created|tweet_id|      tweet_location|       user_timezone|\n",
      "+---------+---------+---------+------------------+------------------+------------------+-----------------+----------+---------------------+----------------+--------------------+----------+-----------+----------+---------------+---------------+--------------------+-------------+-------------+--------------------+-----------+--------------+--------+--------------------+--------------------+\n",
      "|815719226|    FALSE|finalized|                 3|    10/26/15 23:24|              male|                1|       yes|                    1|12-05-2013 01:48|i sing my own rhy...|         0|       null|    08C2C2|        sheezy0|           null|https://pbs.twimg...|            0|       FFFFFF|Robbie E Responds...|     110964|10/26/15 12:40| 6.59E17|     main; @Kan1shk3|             Chennai|\n",
      "|815719227|    FALSE|finalized|                 3|    10/26/15 23:30|              male|                1|       yes|                    1|10-01-2012 13:51|I'm the author of...|        68|       null|    0084B4|    DavdBurnett|           null|https://pbs.twimg...|            0|       C0DEED|���It felt like t...|       7471|10/26/15 12:40| 6.59E17|                null|Eastern Time (US ...|\n",
      "|815719228|    FALSE|finalized|                 3|    10/26/15 23:33|              male|           0.6625|       yes|                    1|  11/28/14 11:30|louis whining and...|      7696|       null|    ABB8C2| lwtprettylaugh|           null|https://pbs.twimg...|            1|       C0DEED|i absolutely ador...|       5617|10/26/15 12:40| 6.59E17|              clcncl|            Belgrade|\n",
      "|815719229|    FALSE|finalized|                 3|    10/26/15 23:10|              male|                1|       yes|                    1|06-11-2009 22:39|Mobile guy.  49er...|       202|       null|    0084B4|    douggarland|           null|https://pbs.twimg...|            0|       C0DEED|Hi @JordanSpieth ...|       1693|10/26/15 12:40| 6.59E17|       Palo Alto, CA|Pacific Time (US ...|\n",
      "|815719230|    FALSE|finalized|                 3|     10/27/15 1:15|            female|                1|       yes|                    1|   4/16/14 13:23|Ricky Wilson The ...|     37318|       null|    3B94D9|   WilfordGemma|           null|https://pbs.twimg...|            0|            0|Watching Neighbou...|      31462|10/26/15 12:40| 6.59E17|                null|                null|\n",
      "|815719231|    FALSE|finalized|                 3|     10/27/15 1:47|            female|                1|       yes|                    1|03-11-2010 18:14|  you don't know me.|      3901|       null|    F5ABB5|  monroevicious|           null|https://pbs.twimg...|            0|            0|Ive seen people o...|      20036|10/26/15 12:40| 6.59E17|     New York Gritty|Central Time (US ...|\n",
      "|815719232|    FALSE|finalized|                 3|     10/27/15 1:57|             brand|                1|       yes|                    1|   4/24/08 13:03|A global marketpl...|      4122|       null|    298AAE|   Shutterstock|           null|https://pbs.twimg...|            0|            0|@BpackEngineer Th...|      13354|10/26/15 12:40| 6.59E17|           Worldwide|Eastern Time (US ...|\n",
      "|815719233|    FALSE|finalized|                 3|    10/26/15 23:48|              male|                1|       yes|                    1|12-03-2012 21:54|The secret of get...|        80|       null|    0000FF|     RobinMeske|           null|https://pbs.twimg...|            0|       C0DEED|Gala Bingo clubs ...|     112117|10/26/15 12:40| 6.59E17|                null|                null|\n",
      "|815719234|    FALSE|finalized|                 3|     10/27/15 1:52|            female|                1|       yes|                    1|09-08-2015 04:50|Pll Fan // Crazy ...|      1825|       null|    9266CC|      pigzilla_|           null|https://pbs.twimg...|            0|            0|@_Aphmau_ the pic...|        482|10/26/15 12:40| 6.59E17|                null|                null|\n",
      "|815719235|    FALSE|finalized|                 3|     10/27/15 1:49|            female|                1|       yes|                    1|    5/13/11 3:32|Renaissance art h...|      3115|       null|    9266CC|  GabrieleNeher|           null|https://pbs.twimg...|            0|       FFFFFF|@Evielady just ho...|      26085|10/26/15 12:40| 6.59E17|Nottingham, England.|           Amsterdam|\n",
      "|815719236|    FALSE|finalized|                 3|    10/26/15 23:17|             brand|           0.7002|       yes|                    1|  11/16/11 17:14|Clean food that t...|       516|       null|    0084B4|  Blissful_Eats|           null|https://pbs.twimg...|            0|       C0DEED|how are you takin...|       5179|10/26/15 12:40| 6.59E17|            New York|Atlantic Time (Ca...|\n",
      "|815719237|    FALSE|finalized|                 3|    10/26/15 22:33|             brand|                1|       yes|                    1|   2/22/15 20:06|highly extraordin...|         0|       null|    0084B4|   eliseotecleo|           null|https://pbs.twimg...|            0|       C0DEED|MTG Deals 1x Rank...|      66684|10/26/15 12:40| 6.59E17|                null|Pacific Time (US ...|\n",
      "|815719238|    FALSE|finalized|                 3|    10/26/15 22:20|            female|           0.6509|       yes|                    1|08-10-2012 05:05|Senior '16 . XI-X...|      3371|       null|    0084B4| kaylanabrewer_|           null|https://pbs.twimg...|            0|       FFFFFF|Just put my ass o...|      13585|10/26/15 12:40| 6.59E17|                null|Atlantic Time (Ca...|\n",
      "|815719239|    FALSE|finalized|                 3|    10/26/15 23:29|             brand|                1|       yes|                    1|05-01-2012 22:14|Come join the fas...|         0|       null|    2FC2EF|  americacredit|           null|https://pbs.twimg...|            0|       181A1E|https://t.co/z4sb...|     199466|10/26/15 12:40| 6.59E17|      America Credit|Pacific Time (US ...|\n",
      "|815719240|    FALSE|finalized|                 3|     10/27/15 1:29|            female|           0.6501|       yes|                    1|04-06-2013 15:31|im just here for ...|     13928|       null|    0084B4|       cheyflan|           null|https://pbs.twimg...|            0|       FFFFFF|will i even need ...|      18469|10/26/15 12:40| 6.59E17|      row b seat 104|Atlantic Time (Ca...|\n",
      "|815719241|    FALSE|finalized|                 3|     10/27/15 1:50|            female|                1|       yes|                    1|10-03-2015 21:32|                null|         0|       null|    0084B4|      Ayu7sith4|           null|https://pbs.twimg...|            0|       C0DEED|https://t.co/EROG...|      44421|10/26/15 12:40| 6.59E17|                null|                null|\n",
      "|815719242|    FALSE|finalized|                 3|    10/26/15 23:43|            female|                1|       yes|                    1|    8/27/11 9:42|           JMKM�_ҕ��|      1762|       null|     58185|   Toucaan_Samm|           null|https://pbs.twimg...|            0|       EEEEEE|@giannaaa28 lmao ...|      16627|10/26/15 12:40| 6.59E17|                null|             Arizona|\n",
      "|815719243|    FALSE|finalized|                 3|    10/26/15 22:50|              male|                1|       yes|                    1|  10/18/09 11:41|Over enthusiastic...|         5|       null|    0084B4|     SSmyth2010|           null|https://pbs.twimg...|            0|       C0DEED|@coolyazzy94 Ditt...|         91|10/26/15 12:40| 6.59E17|             Glasgow|              London|\n",
      "|815719244|    FALSE|finalized|                 3|     10/27/15 1:42|              male|                1|       yes|                    1|   7/20/15 12:01|                null|         1|       null|    0084B4|DarkToonsGaming|           null|https://pbs.twimg...|            0|       C0DEED|@CaribBros @JstSa...|         13|10/26/15 12:40| 6.59E17|                null|                null|\n",
      "|815719245|    FALSE|finalized|                 3|    10/26/15 22:19|           unknown|           0.3527|       yes|                    1|    1/30/15 9:52|                null|       160|       null|    0084B4|    GourlayLynn|           null|https://pbs.twimg...|            0|            0|Me too, saw five ...|       2398|10/26/15 12:40| 6.59E17|                null|                null|\n",
      "+---------+---------+---------+------------------+------------------+------------------+-----------------+----------+---------------------+----------------+--------------------+----------+-----------+----------+---------------+---------------+--------------------+-------------+-------------+--------------------+-----------+--------------+--------+--------------------+--------------------+\n",
      "only showing top 20 rows\n",
      "\n"
     ]
    }
   ],
   "source": [
    "q_5.show()"
   ]
  },
  {
   "cell_type": "code",
   "execution_count": 86,
   "metadata": {},
   "outputs": [
    {
     "name": "stdout",
     "output_type": "stream",
     "text": [
      "+---------------+-----------+\n",
      "|           name|tweet_count|\n",
      "+---------------+-----------+\n",
      "|       TaibaDXB|     992101|\n",
      "|    AmNewsWatch|     983165|\n",
      "|AllTheNewsIsNow|     982075|\n",
      "|    ukworldnews|     963707|\n",
      "|     yumronidua|     958325|\n",
      "|  sexysleepwear|     950858|\n",
      "|         BTCare|     937954|\n",
      "|          xxolh|     890423|\n",
      "|  Koran_Inggris|     873619|\n",
      "|      KangenGaa|     849415|\n",
      "|        krs21da|     836529|\n",
      "|   myvotefactor|     793162|\n",
      "|  subredditsbot|     790012|\n",
      "|    TMobileHelp|     768078|\n",
      "| ReadersGazette|     766629|\n",
      "|high_on_glitter|     752344|\n",
      "|    SkyHelpTeam|     729779|\n",
      "|   BaltNetRadio|     726980|\n",
      "|  commonpatriot|     726477|\n",
      "|    uzsanjarbek|     692281|\n",
      "+---------------+-----------+\n",
      "only showing top 20 rows\n",
      "\n"
     ]
    }
   ],
   "source": [
    "q_5.select('name','tweet_count').distinct().where(q_5.tweet_count>100000).sort(q_5.tweet_count.desc()).show()\n"
   ]
  },
  {
   "cell_type": "code",
   "execution_count": null,
   "metadata": {},
   "outputs": [],
   "source": []
  }
 ],
 "metadata": {
  "kernelspec": {
   "display_name": "Python 3",
   "language": "python",
   "name": "python3"
  },
  "language_info": {
   "codemirror_mode": {
    "name": "ipython",
    "version": 3
   },
   "file_extension": ".py",
   "mimetype": "text/x-python",
   "name": "python",
   "nbconvert_exporter": "python",
   "pygments_lexer": "ipython3",
   "version": "3.7.1"
  }
 },
 "nbformat": 4,
 "nbformat_minor": 5
}
