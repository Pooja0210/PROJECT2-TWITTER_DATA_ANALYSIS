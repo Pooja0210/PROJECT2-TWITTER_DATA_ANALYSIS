{
 "cells": [
  {
   "cell_type": "code",
   "execution_count": 1,
   "metadata": {},
   "outputs": [
    {
     "data": {
      "text/html": [
       "\n",
       "            <div>\n",
       "                <p><b>SparkSession - hive</b></p>\n",
       "                \n",
       "        <div>\n",
       "            <p><b>SparkContext</b></p>\n",
       "\n",
       "            <p><a href=\"http://POMISHR-PC:4041\">Spark UI</a></p>\n",
       "\n",
       "            <dl>\n",
       "              <dt>Version</dt>\n",
       "                <dd><code>v3.1.2</code></dd>\n",
       "              <dt>Master</dt>\n",
       "                <dd><code>local[2]</code></dd>\n",
       "              <dt>AppName</dt>\n",
       "                <dd><code>PySparkShell</code></dd>\n",
       "            </dl>\n",
       "        </div>\n",
       "        \n",
       "            </div>\n",
       "        "
      ],
      "text/plain": [
       "<pyspark.sql.session.SparkSession at 0x1aa8e894550>"
      ]
     },
     "execution_count": 1,
     "metadata": {},
     "output_type": "execute_result"
    }
   ],
   "source": [
    "import pyspark\n",
    "from pyspark import SparkContext\n",
    "sc = SparkContext.getOrCreate();\n",
    "import findspark\n",
    "findspark.init()\n",
    "from pyspark.sql import SparkSession\n",
    "spark = SparkSession.builder.master(\"local[*]\").getOrCreate()\n",
    "spark.conf.set(\"spark.sql.repl.eagerEval.enabled\", True) # Property used to format output tables better\n",
    "spark\n"
   ]
  },
  {
   "cell_type": "code",
   "execution_count": 2,
   "metadata": {},
   "outputs": [],
   "source": [
    "sc.stop()"
   ]
  },
  {
   "cell_type": "code",
   "execution_count": 3,
   "metadata": {},
   "outputs": [],
   "source": [
    "import os\n",
    "import tweepy as tw"
   ]
  },
  {
   "cell_type": "code",
   "execution_count": 4,
   "metadata": {},
   "outputs": [],
   "source": [
    "access_token = '1423506172003291139-yQlvw5xX24vOmHSLCj1uKrYDuhQTKD'\n",
    "access_token_secret = 'X2aRu8OMzNROksy4uIqLDf5hoMvXuR4xaEkYRYlyOxbdQ'\n",
    "consumer_key = 'fRpq6Rk6LeDjJcq77AzR9vpFt'\n",
    "consumer_secret = 'TnMLL7BMsEEz4B1wOxfjB9b7IqRDUVMghDpshZ3BTgWzhb80iJ'"
   ]
  },
  {
   "cell_type": "code",
   "execution_count": 5,
   "metadata": {},
   "outputs": [],
   "source": [
    "auth = tw.OAuthHandler(consumer_key,consumer_secret)\n",
    "auth.set_access_token(access_token,access_token_secret)\n",
    "api= tw.API(auth,wait_on_rate_limit =True)"
   ]
  },
  {
   "cell_type": "raw",
   "metadata": {},
   "source": []
  },
  {
   "cell_type": "code",
   "execution_count": 6,
   "metadata": {},
   "outputs": [],
   "source": [
    "search_words = \"#Tokyo2020\"\n",
    "date_since = \"2021-08-07\""
   ]
  },
  {
   "cell_type": "code",
   "execution_count": 7,
   "metadata": {
    "scrolled": true
   },
   "outputs": [
    {
     "data": {
      "text/plain": [
       "[\"RT @ProudPahariya: @maryashakil Doesn't even know the fact that all the 9 gold medals that India got in olympics till date are won by men (…\",\n",
       " 'Devendra Jhajharia is the most successful #IND athlete at the #Paralympics 🥇\\n\\nThe 40-year-old javelin thrower is ch… https://t.co/lIIGL5rpHJ',\n",
       " 'RT @PuneethRajkumar: Entire nation is super proud of you @Neeraj_chopra1 on winning our first ever olympic gold medal in athletics, this wi…',\n",
       " 'The sports I watched the most at #tokyo2020 were: \\n1. #trackandfield \\n2. #Swimming\\n3. #Volleyball\\nAnyone else?',\n",
       " \"#TeamGB's women's hockey team put in an impressive performance at #Tokyo2020, eventually coming away with a bronze… https://t.co/DCpfkxeOfU\",\n",
       " 'RT @aairedner: We Welcome @LovlinaBorgohai \\nOur #Olympian bringing first ever Olympics medal for #Assam at #Tokyo2020 a Bronze🏅\\n\\nYou are an…',\n",
       " 'RT @vijayanpinarayi: Announced a reward of ₹2 crore for Olympics bronze medalist @16Sreejesh. In addition to that, he has been promoted as…',\n",
       " 'RT @sorveteeeee: She dreamed it 😊\\nShe did it ! #Gold\\nCharlotte Worthington from #TeamGB making the first 360 backflip for women!! 🎉 \\n#BMXFr…',\n",
       " 'RT @toisports: I was not thinking about @jojo_javelin, but about myself and my throw: @Neeraj_chopra1 \\n\\nINTERVIEW: https://t.co/mTcH5bn3cQ…',\n",
       " 'RT @toisports: I was not thinking about @jojo_javelin, but about myself and my throw: @Neeraj_chopra1 \\n\\nINTERVIEW: https://t.co/mTcH5bn3cQ…',\n",
       " 'Petition: We demand that the Gurkhas receive equal pensions #Gurkhas #Tokyo2020 https://t.co/9IsqM2pgxj',\n",
       " 'RT @toisports: I was not thinking about @jojo_javelin, but about myself and my throw: @Neeraj_chopra1 \\n\\nINTERVIEW: https://t.co/mTcH5bn3cQ…',\n",
       " 'RT @BBCAfrica: No regrets and a call for peace\\n\\nEthiopian-born @SifanHassan won three medals at the #Tokyo2020 @Olympics for her adopted na…',\n",
       " 'RT @HarpreetLamba88: The precious medal!! Hockey bronze\\n\\nThanks Sree! ☺🏅\\n\\n#Hockey #india #Tokyo2020 https://t.co/kjnhNGta1U',\n",
       " 'RT @BakhtawarMah: #ArshadNadeem Thank you\\n&amp; For next time #OlympicAssociationofPakistan\\nKuch Kam karlo🙏\\nI can understand how difficult it w…',\n",
       " '@ParalympicsIRE @IrelandEmbGB @AerLingus @DublinAirport Good luck @ParalympicsIRE! #Paralympics #Tokyo2020',\n",
       " \"While the medal haul of Australia's Olympic swim team was mostly due to hard work and training, part of it arose fr… https://t.co/FWa5xZzuMY\",\n",
       " 'RT @BeingSalmanKhan: Well done Neeraj, this is amazinggg. Congrats god bless n keep the hard work n dedication going @Neeraj_chopra1 #TeamI…',\n",
       " 'RT @priyankachopra: Gold!!!! Here’s to creating history. Take it in @Neeraj_chopra1 and congratulations\\n\\nYou make us proud! 🇮🇳❤️ #NeerajCho…',\n",
       " 'RT @SeifGebre: #Tokyo2020 medalist Sifan Hassan on conflict in Ethiopia \\n\\nLetesenbet is an amazing athlete. Where she comes from, there are…']"
      ]
     },
     "execution_count": 7,
     "metadata": {},
     "output_type": "execute_result"
    }
   ],
   "source": [
    "tweets = tw.Cursor(api.search,q=search_words, lang=\"en\",since=date_since).items(20)\n",
    "\n",
    "[tweet.text for tweet in tweets]"
   ]
  },
  {
   "cell_type": "code",
   "execution_count": 8,
   "metadata": {},
   "outputs": [
    {
     "data": {
      "text/plain": [
       "'#Tokyo2020 -filter:retweets'"
      ]
     },
     "execution_count": 8,
     "metadata": {},
     "output_type": "execute_result"
    }
   ],
   "source": [
    "new_search= search_words +\" -filter:retweets\"\n",
    "new_search"
   ]
  },
  {
   "cell_type": "code",
   "execution_count": 11,
   "metadata": {},
   "outputs": [
    {
     "data": {
      "text/plain": [
       "[['StudentMindsOrg', 'https://t.co/lOYGKedosK'],\n",
       " ['AsianGamesOCA', 'https://t.co/pST9yZetZo'],\n",
       " ['DennarEmeka', None],\n",
       " ['Tokyo2020hi', 'https://t.co/XmN3jVo8M6'],\n",
       " ['WorldTalker', None],\n",
       " ['BoarSport', 'https://t.co/GUI7WfLXdJ'],\n",
       " ['JackoHawkins', None],\n",
       " ['simonedens', None],\n",
       " ['theage', 'http://t.co/aFGMIHFZKT'],\n",
       " ['913sportfm', 'https://t.co/FHx8Pu5pF4']]"
      ]
     },
     "execution_count": 11,
     "metadata": {},
     "output_type": "execute_result"
    }
   ],
   "source": [
    "\n",
    "tweets = tw.Cursor(api.search,q=new_search, lang=\"en\",since=date_since).items(10)\n",
    "users_details = [[tweet.user.screen_name,tweet.user.url]for tweet in tweets]\n",
    "users_details"
   ]
  },
  {
   "cell_type": "code",
   "execution_count": null,
   "metadata": {},
   "outputs": [],
   "source": []
  },
  {
   "cell_type": "code",
   "execution_count": null,
   "metadata": {},
   "outputs": [],
   "source": []
  },
  {
   "cell_type": "code",
   "execution_count": null,
   "metadata": {},
   "outputs": [],
   "source": []
  }
 ],
 "metadata": {
  "kernelspec": {
   "display_name": "Python 3",
   "language": "python",
   "name": "python3"
  },
  "language_info": {
   "codemirror_mode": {
    "name": "ipython",
    "version": 3
   },
   "file_extension": ".py",
   "mimetype": "text/x-python",
   "name": "python",
   "nbconvert_exporter": "python",
   "pygments_lexer": "ipython3",
   "version": "3.7.1"
  }
 },
 "nbformat": 4,
 "nbformat_minor": 5
}
